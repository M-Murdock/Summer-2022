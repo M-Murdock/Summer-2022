{
 "cells": [
  {
   "cell_type": "markdown",
   "metadata": {},
   "source": [
    "This notebook is an experimentation with building user profiles using Django (following [this](https://dev.to/earthcomfy/creating-a-django-registration-login-app-part-i-1di5) tutorial)"
   ]
  },
  {
   "cell_type": "markdown",
   "metadata": {},
   "source": [
    "### Installations"
   ]
  },
  {
   "cell_type": "code",
   "execution_count": 1,
   "metadata": {},
   "outputs": [
    {
     "name": "stdout",
     "output_type": "stream",
     "text": [
      "Requirement already satisfied: Django in /opt/anaconda3/lib/python3.8/site-packages (3.2.6)\r\n",
      "Requirement already satisfied: sqlparse>=0.2.2 in /opt/anaconda3/lib/python3.8/site-packages (from Django) (0.4.2)\r\n",
      "Requirement already satisfied: asgiref<4,>=3.3.2 in /opt/anaconda3/lib/python3.8/site-packages (from Django) (3.5.2)\r\n",
      "Requirement already satisfied: pytz in /opt/anaconda3/lib/python3.8/site-packages (from Django) (2020.1)\r\n"
     ]
    }
   ],
   "source": [
    "!pip install Django\n",
    "import django"
   ]
  },
  {
   "cell_type": "code",
   "execution_count": 2,
   "metadata": {
    "scrolled": true
   },
   "outputs": [
    {
     "name": "stdout",
     "output_type": "stream",
     "text": [
      "Requirement already satisfied: Django==3.2.6 in /opt/anaconda3/lib/python3.8/site-packages (from -r user-profile-system/requirements.txt (line 1)) (3.2.6)\n",
      "Requirement already satisfied: Pillow==8.3.1 in /opt/anaconda3/lib/python3.8/site-packages (from -r user-profile-system/requirements.txt (line 2)) (8.3.1)\n",
      "Requirement already satisfied: python-dotenv==0.19.0 in /opt/anaconda3/lib/python3.8/site-packages (from -r user-profile-system/requirements.txt (line 3)) (0.19.0)\n",
      "Requirement already satisfied: social-auth-app-django==5.0.0 in /opt/anaconda3/lib/python3.8/site-packages (from -r user-profile-system/requirements.txt (line 4)) (5.0.0)\n",
      "Requirement already satisfied: pytz in /opt/anaconda3/lib/python3.8/site-packages (from Django==3.2.6->-r user-profile-system/requirements.txt (line 1)) (2020.1)\n",
      "Requirement already satisfied: sqlparse>=0.2.2 in /opt/anaconda3/lib/python3.8/site-packages (from Django==3.2.6->-r user-profile-system/requirements.txt (line 1)) (0.4.2)\n",
      "Requirement already satisfied: asgiref<4,>=3.3.2 in /opt/anaconda3/lib/python3.8/site-packages (from Django==3.2.6->-r user-profile-system/requirements.txt (line 1)) (3.5.2)\n",
      "Requirement already satisfied: social-auth-core>=4.1.0 in /opt/anaconda3/lib/python3.8/site-packages (from social-auth-app-django==5.0.0->-r user-profile-system/requirements.txt (line 4)) (4.3.0)\n",
      "Requirement already satisfied: defusedxml>=0.5.0rc1 in /opt/anaconda3/lib/python3.8/site-packages (from social-auth-core>=4.1.0->social-auth-app-django==5.0.0->-r user-profile-system/requirements.txt (line 4)) (0.6.0)\n",
      "Requirement already satisfied: PyJWT>=2.0.0 in /opt/anaconda3/lib/python3.8/site-packages (from social-auth-core>=4.1.0->social-auth-app-django==5.0.0->-r user-profile-system/requirements.txt (line 4)) (2.4.0)\n",
      "Requirement already satisfied: cryptography>=1.4 in /opt/anaconda3/lib/python3.8/site-packages (from social-auth-core>=4.1.0->social-auth-app-django==5.0.0->-r user-profile-system/requirements.txt (line 4)) (3.1.1)\n",
      "Requirement already satisfied: requests>=2.9.1 in /opt/anaconda3/lib/python3.8/site-packages (from social-auth-core>=4.1.0->social-auth-app-django==5.0.0->-r user-profile-system/requirements.txt (line 4)) (2.24.0)\n",
      "Requirement already satisfied: oauthlib>=1.0.3 in /opt/anaconda3/lib/python3.8/site-packages (from social-auth-core>=4.1.0->social-auth-app-django==5.0.0->-r user-profile-system/requirements.txt (line 4)) (3.2.0)\n",
      "Requirement already satisfied: python3-openid>=3.0.10 in /opt/anaconda3/lib/python3.8/site-packages (from social-auth-core>=4.1.0->social-auth-app-django==5.0.0->-r user-profile-system/requirements.txt (line 4)) (3.2.0)\n",
      "Requirement already satisfied: requests-oauthlib>=0.6.1 in /opt/anaconda3/lib/python3.8/site-packages (from social-auth-core>=4.1.0->social-auth-app-django==5.0.0->-r user-profile-system/requirements.txt (line 4)) (1.3.1)\n",
      "Requirement already satisfied: six>=1.4.1 in /opt/anaconda3/lib/python3.8/site-packages (from cryptography>=1.4->social-auth-core>=4.1.0->social-auth-app-django==5.0.0->-r user-profile-system/requirements.txt (line 4)) (1.15.0)\n",
      "Requirement already satisfied: cffi!=1.11.3,>=1.8 in /opt/anaconda3/lib/python3.8/site-packages (from cryptography>=1.4->social-auth-core>=4.1.0->social-auth-app-django==5.0.0->-r user-profile-system/requirements.txt (line 4)) (1.14.3)\n",
      "Requirement already satisfied: chardet<4,>=3.0.2 in /opt/anaconda3/lib/python3.8/site-packages (from requests>=2.9.1->social-auth-core>=4.1.0->social-auth-app-django==5.0.0->-r user-profile-system/requirements.txt (line 4)) (3.0.4)\n",
      "Requirement already satisfied: urllib3!=1.25.0,!=1.25.1,<1.26,>=1.21.1 in /opt/anaconda3/lib/python3.8/site-packages (from requests>=2.9.1->social-auth-core>=4.1.0->social-auth-app-django==5.0.0->-r user-profile-system/requirements.txt (line 4)) (1.22)\n",
      "Requirement already satisfied: certifi>=2017.4.17 in /opt/anaconda3/lib/python3.8/site-packages (from requests>=2.9.1->social-auth-core>=4.1.0->social-auth-app-django==5.0.0->-r user-profile-system/requirements.txt (line 4)) (2020.6.20)\n",
      "Requirement already satisfied: idna<3,>=2.5 in /opt/anaconda3/lib/python3.8/site-packages (from requests>=2.9.1->social-auth-core>=4.1.0->social-auth-app-django==5.0.0->-r user-profile-system/requirements.txt (line 4)) (2.10)\n",
      "Requirement already satisfied: pycparser in /opt/anaconda3/lib/python3.8/site-packages (from cffi!=1.11.3,>=1.8->cryptography>=1.4->social-auth-core>=4.1.0->social-auth-app-django==5.0.0->-r user-profile-system/requirements.txt (line 4)) (2.20)\n"
     ]
    }
   ],
   "source": [
    "!pip install -r user-profile-system/requirements.txt"
   ]
  },
  {
   "cell_type": "markdown",
   "metadata": {},
   "source": [
    "NOTE: If addinga column to the database, first delete 'db.sqlite3'"
   ]
  },
  {
   "cell_type": "code",
   "execution_count": 3,
   "metadata": {},
   "outputs": [
    {
     "name": "stdout",
     "output_type": "stream",
     "text": [
      "\u001b[36;1mMigrations for 'users':\u001b[0m\r\n",
      "  \u001b[1muser-profile-system/users/migrations/0006_auto_20220623_1946.py\u001b[0m\r\n",
      "    - Add field year to profile\r\n",
      "    - Alter field institution on profile\r\n",
      "\u001b[0m"
     ]
    }
   ],
   "source": [
    "!python user-profile-system/manage.py makemigrations"
   ]
  },
  {
   "cell_type": "code",
   "execution_count": 4,
   "metadata": {
    "scrolled": true
   },
   "outputs": [
    {
     "name": "stdout",
     "output_type": "stream",
     "text": [
      "\u001b[36;1mOperations to perform:\u001b[0m\n",
      "\u001b[1m  Apply all migrations: \u001b[0madmin, auth, contenttypes, sessions, social_django, users\n",
      "\u001b[36;1mRunning migrations:\u001b[0m\n",
      "  Applying contenttypes.0001_initial...\u001b[32;1m OK\u001b[0m\n",
      "  Applying auth.0001_initial...\u001b[32;1m OK\u001b[0m\n",
      "  Applying admin.0001_initial...\u001b[32;1m OK\u001b[0m\n",
      "  Applying admin.0002_logentry_remove_auto_add...\u001b[32;1m OK\u001b[0m\n",
      "  Applying admin.0003_logentry_add_action_flag_choices...\u001b[32;1m OK\u001b[0m\n",
      "  Applying contenttypes.0002_remove_content_type_name...\u001b[32;1m OK\u001b[0m\n",
      "  Applying auth.0002_alter_permission_name_max_length...\u001b[32;1m OK\u001b[0m\n",
      "  Applying auth.0003_alter_user_email_max_length...\u001b[32;1m OK\u001b[0m\n",
      "  Applying auth.0004_alter_user_username_opts...\u001b[32;1m OK\u001b[0m\n",
      "  Applying auth.0005_alter_user_last_login_null...\u001b[32;1m OK\u001b[0m\n",
      "  Applying auth.0006_require_contenttypes_0002...\u001b[32;1m OK\u001b[0m\n",
      "  Applying auth.0007_alter_validators_add_error_messages...\u001b[32;1m OK\u001b[0m\n",
      "  Applying auth.0008_alter_user_username_max_length...\u001b[32;1m OK\u001b[0m\n",
      "  Applying auth.0009_alter_user_last_name_max_length...\u001b[32;1m OK\u001b[0m\n",
      "  Applying auth.0010_alter_group_name_max_length...\u001b[32;1m OK\u001b[0m\n",
      "  Applying auth.0011_update_proxy_permissions...\u001b[32;1m OK\u001b[0m\n",
      "  Applying auth.0012_alter_user_first_name_max_length...\u001b[32;1m OK\u001b[0m\n",
      "  Applying sessions.0001_initial...\u001b[32;1m OK\u001b[0m\n",
      "  Applying social_django.0001_initial...\u001b[32;1m OK\u001b[0m\n",
      "  Applying social_django.0002_add_related_name...\u001b[32;1m OK\u001b[0m\n",
      "  Applying social_django.0003_alter_email_max_length...\u001b[32;1m OK\u001b[0m\n",
      "  Applying social_django.0004_auto_20160423_0400...\u001b[32;1m OK\u001b[0m\n",
      "  Applying social_django.0005_auto_20160727_2333...\u001b[32;1m OK\u001b[0m\n",
      "  Applying social_django.0006_partial...\u001b[32;1m OK\u001b[0m\n",
      "  Applying social_django.0007_code_timestamp...\u001b[32;1m OK\u001b[0m\n",
      "  Applying social_django.0008_partial_timestamp...\u001b[32;1m OK\u001b[0m\n",
      "  Applying social_django.0009_auto_20191118_0520...\u001b[32;1m OK\u001b[0m\n",
      "  Applying social_django.0010_uid_db_index...\u001b[32;1m OK\u001b[0m\n",
      "  Applying users.0001_initial...\u001b[32;1m OK\u001b[0m\n",
      "  Applying users.0002_alter_profile_avatar...\u001b[32;1m OK\u001b[0m\n",
      "  Applying users.0003_alter_profile_avatar...\u001b[32;1m OK\u001b[0m\n",
      "  Applying users.0004_profile_bio...\u001b[32;1m OK\u001b[0m\n",
      "  Applying users.0005_profile_institution...\u001b[32;1m OK\u001b[0m\n",
      "  Applying users.0006_auto_20220623_1946...\u001b[32;1m OK\u001b[0m\n",
      "\u001b[0m"
     ]
    }
   ],
   "source": [
    "!python user-profile-system/manage.py migrate"
   ]
  },
  {
   "cell_type": "code",
   "execution_count": null,
   "metadata": {},
   "outputs": [
    {
     "name": "stdout",
     "output_type": "stream",
     "text": [
      "Watching for file changes with StatReloader\n",
      "Performing system checks...\n",
      "\n",
      "System check identified no issues (0 silenced).\n",
      "June 23, 2022 - 19:46:47\n",
      "Django version 3.2.6, using settings 'user_management.settings'\n",
      "Starting development server at http://127.0.0.1:8000/\n",
      "Quit the server with CONTROL-C.\n",
      "[23/Jun/2022 19:47:40] \u001b[32m\"GET /profile/ HTTP/1.1\" 302 0\u001b[0m\n",
      "[23/Jun/2022 19:47:40] \u001b[m\"GET /login/?next=/profile/ HTTP/1.1\" 200 6310\u001b[0m\n",
      "[23/Jun/2022 19:47:42] \u001b[m\"POST /login/?next=/profile/ HTTP/1.1\" 200 7067\u001b[0m\n",
      "[23/Jun/2022 19:47:45] \u001b[m\"GET /register/ HTTP/1.1\" 200 6875\u001b[0m\n",
      "[23/Jun/2022 19:47:57] \u001b[32m\"POST /register/ HTTP/1.1\" 302 0\u001b[0m\n",
      "[23/Jun/2022 19:47:57] \u001b[m\"GET /login/ HTTP/1.1\" 200 6670\u001b[0m\n",
      "[23/Jun/2022 19:47:59] \u001b[32m\"POST /login/ HTTP/1.1\" 302 0\u001b[0m\n",
      "[23/Jun/2022 19:47:59] \u001b[m\"GET / HTTP/1.1\" 200 2844\u001b[0m\n",
      "[23/Jun/2022 19:48:02] \u001b[m\"GET /profile/ HTTP/1.1\" 200 4662\u001b[0m\n",
      "[23/Jun/2022 19:49:34] \u001b[m\"GET /profile/ HTTP/1.1\" 200 4742\u001b[0m\n",
      "[23/Jun/2022 19:49:47] \u001b[m\"GET /profile/ HTTP/1.1\" 200 4771\u001b[0m\n",
      "[23/Jun/2022 19:50:00] \u001b[m\"GET /profile/ HTTP/1.1\" 200 4796\u001b[0m\n",
      "[23/Jun/2022 19:50:19] \u001b[m\"GET /profile/ HTTP/1.1\" 200 4825\u001b[0m\n",
      "[23/Jun/2022 19:50:39] \u001b[32m\"POST /profile/ HTTP/1.1\" 302 0\u001b[0m\n",
      "[23/Jun/2022 19:50:40] \u001b[m\"GET /profile/ HTTP/1.1\" 200 5223\u001b[0m\n",
      "/Users/mallard/Documents/GitHub/Summer-2022/user-profile-system/users/models.py changed, reloading.\n",
      "\u001b[0mWatching for file changes with StatReloader\n",
      "Performing system checks...\n",
      "\n",
      "System check identified no issues (0 silenced).\n",
      "June 23, 2022 - 19:54:16\n",
      "Django version 3.2.6, using settings 'user_management.settings'\n",
      "Starting development server at http://127.0.0.1:8000/\n",
      "Quit the server with CONTROL-C.\n",
      "[23/Jun/2022 19:54:17] \u001b[m\"GET /profile/ HTTP/1.1\" 200 4892\u001b[0m\n",
      "[23/Jun/2022 19:55:51] \u001b[m\"GET / HTTP/1.1\" 200 2844\u001b[0m\n"
     ]
    }
   ],
   "source": [
    "!python user-profile-system/manage.py runserver"
   ]
  },
  {
   "cell_type": "markdown",
   "metadata": {},
   "source": [
    "This documentation on [django authentication](https://docs.djangoproject.com/en/4.0/topics/auth/default/) may prove useful if we decide to assign different roles (i.e. student and instructor)"
   ]
  }
 ],
 "metadata": {
  "kernelspec": {
   "display_name": "Python 3",
   "language": "python",
   "name": "python3"
  },
  "language_info": {
   "codemirror_mode": {
    "name": "ipython",
    "version": 3
   },
   "file_extension": ".py",
   "mimetype": "text/x-python",
   "name": "python",
   "nbconvert_exporter": "python",
   "pygments_lexer": "ipython3",
   "version": "3.8.5"
  }
 },
 "nbformat": 4,
 "nbformat_minor": 4
}
