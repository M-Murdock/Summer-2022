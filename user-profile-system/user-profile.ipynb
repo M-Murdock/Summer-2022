{
 "cells": [
  {
   "cell_type": "markdown",
   "metadata": {},
   "source": [
    "This notebook is an experimentation with building user profiles using Django (following [this](https://dev.to/earthcomfy/creating-a-django-registration-login-app-part-i-1di5) tutorial)"
   ]
  },
  {
   "cell_type": "markdown",
   "metadata": {},
   "source": [
    "### Installations"
   ]
  },
  {
   "cell_type": "code",
   "execution_count": 1,
   "metadata": {},
   "outputs": [
    {
     "name": "stdout",
     "output_type": "stream",
     "text": [
      "Requirement already satisfied: Django in /opt/anaconda3/lib/python3.8/site-packages (4.0.5)\n",
      "Requirement already satisfied: asgiref<4,>=3.4.1 in /opt/anaconda3/lib/python3.8/site-packages (from Django) (3.5.2)\n",
      "Requirement already satisfied: backports.zoneinfo; python_version < \"3.9\" in /opt/anaconda3/lib/python3.8/site-packages (from Django) (0.2.1)\n",
      "Requirement already satisfied: sqlparse>=0.2.2 in /opt/anaconda3/lib/python3.8/site-packages (from Django) (0.4.2)\n"
     ]
    }
   ],
   "source": [
    "!pip install Django\n",
    "import django"
   ]
  },
  {
   "cell_type": "markdown",
   "metadata": {},
   "source": [
    "### Create a new project"
   ]
  },
  {
   "cell_type": "code",
   "execution_count": 15,
   "metadata": {
    "scrolled": true
   },
   "outputs": [
    {
     "name": "stdout",
     "output_type": "stream",
     "text": [
      "Collecting Django==3.2.6\n",
      "  Downloading Django-3.2.6-py3-none-any.whl (7.9 MB)\n",
      "\u001b[K     |████████████████████████████████| 7.9 MB 4.4 MB/s eta 0:00:01\n",
      "\u001b[?25hCollecting Pillow==8.3.1\n",
      "  Downloading Pillow-8.3.1-cp38-cp38-macosx_10_10_x86_64.whl (2.9 MB)\n",
      "\u001b[K     |████████████████████████████████| 2.9 MB 4.1 MB/s eta 0:00:01\n",
      "\u001b[?25hCollecting python-dotenv==0.19.0\n",
      "  Downloading python_dotenv-0.19.0-py2.py3-none-any.whl (17 kB)\n",
      "Collecting social-auth-app-django==5.0.0\n",
      "  Downloading social_auth_app_django-5.0.0-py3-none-any.whl (24 kB)\n",
      "Requirement already satisfied: sqlparse>=0.2.2 in /opt/anaconda3/lib/python3.8/site-packages (from Django==3.2.6->-r user-profile-system/requirements.txt (line 1)) (0.4.2)\n",
      "Requirement already satisfied: asgiref<4,>=3.3.2 in /opt/anaconda3/lib/python3.8/site-packages (from Django==3.2.6->-r user-profile-system/requirements.txt (line 1)) (3.5.2)\n",
      "Requirement already satisfied: pytz in /opt/anaconda3/lib/python3.8/site-packages (from Django==3.2.6->-r user-profile-system/requirements.txt (line 1)) (2020.1)\n",
      "Collecting social-auth-core>=4.1.0\n",
      "  Downloading social_auth_core-4.3.0-py3-none-any.whl (343 kB)\n",
      "\u001b[K     |████████████████████████████████| 343 kB 4.0 MB/s eta 0:00:01\n",
      "\u001b[?25hRequirement already satisfied: cryptography>=1.4 in /opt/anaconda3/lib/python3.8/site-packages (from social-auth-core>=4.1.0->social-auth-app-django==5.0.0->-r user-profile-system/requirements.txt (line 4)) (3.1.1)\n",
      "Collecting oauthlib>=1.0.3\n",
      "  Downloading oauthlib-3.2.0-py3-none-any.whl (151 kB)\n",
      "\u001b[K     |████████████████████████████████| 151 kB 4.0 MB/s eta 0:00:01\n",
      "\u001b[?25hCollecting PyJWT>=2.0.0\n",
      "  Downloading PyJWT-2.4.0-py3-none-any.whl (18 kB)\n",
      "Requirement already satisfied: requests>=2.9.1 in /opt/anaconda3/lib/python3.8/site-packages (from social-auth-core>=4.1.0->social-auth-app-django==5.0.0->-r user-profile-system/requirements.txt (line 4)) (2.24.0)\n",
      "Collecting python3-openid>=3.0.10\n",
      "  Downloading python3_openid-3.2.0-py3-none-any.whl (133 kB)\n",
      "\u001b[K     |████████████████████████████████| 133 kB 7.2 MB/s eta 0:00:01\n",
      "\u001b[?25hRequirement already satisfied: defusedxml>=0.5.0rc1 in /opt/anaconda3/lib/python3.8/site-packages (from social-auth-core>=4.1.0->social-auth-app-django==5.0.0->-r user-profile-system/requirements.txt (line 4)) (0.6.0)\n",
      "Collecting requests-oauthlib>=0.6.1\n",
      "  Downloading requests_oauthlib-1.3.1-py2.py3-none-any.whl (23 kB)\n",
      "Requirement already satisfied: six>=1.4.1 in /opt/anaconda3/lib/python3.8/site-packages (from cryptography>=1.4->social-auth-core>=4.1.0->social-auth-app-django==5.0.0->-r user-profile-system/requirements.txt (line 4)) (1.15.0)\n",
      "Requirement already satisfied: cffi!=1.11.3,>=1.8 in /opt/anaconda3/lib/python3.8/site-packages (from cryptography>=1.4->social-auth-core>=4.1.0->social-auth-app-django==5.0.0->-r user-profile-system/requirements.txt (line 4)) (1.14.3)\n",
      "Requirement already satisfied: urllib3!=1.25.0,!=1.25.1,<1.26,>=1.21.1 in /opt/anaconda3/lib/python3.8/site-packages (from requests>=2.9.1->social-auth-core>=4.1.0->social-auth-app-django==5.0.0->-r user-profile-system/requirements.txt (line 4)) (1.22)\n",
      "Requirement already satisfied: idna<3,>=2.5 in /opt/anaconda3/lib/python3.8/site-packages (from requests>=2.9.1->social-auth-core>=4.1.0->social-auth-app-django==5.0.0->-r user-profile-system/requirements.txt (line 4)) (2.10)\n",
      "Requirement already satisfied: chardet<4,>=3.0.2 in /opt/anaconda3/lib/python3.8/site-packages (from requests>=2.9.1->social-auth-core>=4.1.0->social-auth-app-django==5.0.0->-r user-profile-system/requirements.txt (line 4)) (3.0.4)\n",
      "Requirement already satisfied: certifi>=2017.4.17 in /opt/anaconda3/lib/python3.8/site-packages (from requests>=2.9.1->social-auth-core>=4.1.0->social-auth-app-django==5.0.0->-r user-profile-system/requirements.txt (line 4)) (2020.6.20)\n",
      "Requirement already satisfied: pycparser in /opt/anaconda3/lib/python3.8/site-packages (from cffi!=1.11.3,>=1.8->cryptography>=1.4->social-auth-core>=4.1.0->social-auth-app-django==5.0.0->-r user-profile-system/requirements.txt (line 4)) (2.20)\n",
      "Installing collected packages: Django, Pillow, python-dotenv, oauthlib, PyJWT, python3-openid, requests-oauthlib, social-auth-core, social-auth-app-django\n",
      "  Attempting uninstall: Django\n",
      "    Found existing installation: Django 4.0.5\n",
      "    Uninstalling Django-4.0.5:\n",
      "      Successfully uninstalled Django-4.0.5\n",
      "  Attempting uninstall: Pillow\n",
      "    Found existing installation: Pillow 8.0.1\n",
      "    Uninstalling Pillow-8.0.1:\n",
      "      Successfully uninstalled Pillow-8.0.1\n",
      "Successfully installed Django-3.2.6 Pillow-8.3.1 PyJWT-2.4.0 oauthlib-3.2.0 python-dotenv-0.19.0 python3-openid-3.2.0 requests-oauthlib-1.3.1 social-auth-app-django-5.0.0 social-auth-core-4.3.0\n"
     ]
    }
   ],
   "source": [
    "!pip install -r user-profile-system/requirements.txt"
   ]
  },
  {
   "cell_type": "code",
   "execution_count": 16,
   "metadata": {},
   "outputs": [
    {
     "name": "stdout",
     "output_type": "stream",
     "text": [
      "No changes detected\r\n",
      "\u001b[0m"
     ]
    }
   ],
   "source": [
    "!python user-profile-system/manage.py makemigrations"
   ]
  },
  {
   "cell_type": "code",
   "execution_count": 17,
   "metadata": {
    "scrolled": true
   },
   "outputs": [
    {
     "name": "stdout",
     "output_type": "stream",
     "text": [
      "\u001b[36;1mOperations to perform:\u001b[0m\n",
      "\u001b[1m  Apply all migrations: \u001b[0madmin, auth, contenttypes, sessions, social_django, users\n",
      "\u001b[36;1mRunning migrations:\u001b[0m\n",
      "  Applying contenttypes.0001_initial...\u001b[32;1m OK\u001b[0m\n",
      "  Applying auth.0001_initial...\u001b[32;1m OK\u001b[0m\n",
      "  Applying admin.0001_initial...\u001b[32;1m OK\u001b[0m\n",
      "  Applying admin.0002_logentry_remove_auto_add...\u001b[32;1m OK\u001b[0m\n",
      "  Applying admin.0003_logentry_add_action_flag_choices...\u001b[32;1m OK\u001b[0m\n",
      "  Applying contenttypes.0002_remove_content_type_name...\u001b[32;1m OK\u001b[0m\n",
      "  Applying auth.0002_alter_permission_name_max_length...\u001b[32;1m OK\u001b[0m\n",
      "  Applying auth.0003_alter_user_email_max_length...\u001b[32;1m OK\u001b[0m\n",
      "  Applying auth.0004_alter_user_username_opts...\u001b[32;1m OK\u001b[0m\n",
      "  Applying auth.0005_alter_user_last_login_null...\u001b[32;1m OK\u001b[0m\n",
      "  Applying auth.0006_require_contenttypes_0002...\u001b[32;1m OK\u001b[0m\n",
      "  Applying auth.0007_alter_validators_add_error_messages...\u001b[32;1m OK\u001b[0m\n",
      "  Applying auth.0008_alter_user_username_max_length...\u001b[32;1m OK\u001b[0m\n",
      "  Applying auth.0009_alter_user_last_name_max_length...\u001b[32;1m OK\u001b[0m\n",
      "  Applying auth.0010_alter_group_name_max_length...\u001b[32;1m OK\u001b[0m\n",
      "  Applying auth.0011_update_proxy_permissions...\u001b[32;1m OK\u001b[0m\n",
      "  Applying auth.0012_alter_user_first_name_max_length...\u001b[32;1m OK\u001b[0m\n",
      "  Applying sessions.0001_initial...\u001b[32;1m OK\u001b[0m\n",
      "  Applying social_django.0001_initial...\u001b[32;1m OK\u001b[0m\n",
      "  Applying social_django.0002_add_related_name...\u001b[32;1m OK\u001b[0m\n",
      "  Applying social_django.0003_alter_email_max_length...\u001b[32;1m OK\u001b[0m\n",
      "  Applying social_django.0004_auto_20160423_0400...\u001b[32;1m OK\u001b[0m\n",
      "  Applying social_django.0005_auto_20160727_2333...\u001b[32;1m OK\u001b[0m\n",
      "  Applying social_django.0006_partial...\u001b[32;1m OK\u001b[0m\n",
      "  Applying social_django.0007_code_timestamp...\u001b[32;1m OK\u001b[0m\n",
      "  Applying social_django.0008_partial_timestamp...\u001b[32;1m OK\u001b[0m\n",
      "  Applying social_django.0009_auto_20191118_0520...\u001b[32;1m OK\u001b[0m\n",
      "  Applying social_django.0010_uid_db_index...\u001b[32;1m OK\u001b[0m\n",
      "  Applying users.0001_initial...\u001b[32;1m OK\u001b[0m\n",
      "  Applying users.0002_alter_profile_avatar...\u001b[32;1m OK\u001b[0m\n",
      "  Applying users.0003_alter_profile_avatar...\u001b[32;1m OK\u001b[0m\n",
      "  Applying users.0004_profile_bio...\u001b[32;1m OK\u001b[0m\n",
      "\u001b[0m"
     ]
    }
   ],
   "source": [
    "!python user-profile-system/manage.py migrate"
   ]
  },
  {
   "cell_type": "code",
   "execution_count": 18,
   "metadata": {},
   "outputs": [
    {
     "name": "stdout",
     "output_type": "stream",
     "text": [
      "Username (leave blank to use 'mallard'): ^C\n",
      "\u001b[31;1m\n",
      "Operation cancelled.\n",
      "\u001b[0m\u001b[0m"
     ]
    }
   ],
   "source": [
    "!python user-profile-system/manage.py createsuperuser"
   ]
  },
  {
   "cell_type": "code",
   "execution_count": null,
   "metadata": {},
   "outputs": [
    {
     "name": "stdout",
     "output_type": "stream",
     "text": [
      "Watching for file changes with StatReloader\n",
      "Performing system checks...\n",
      "\n",
      "System check identified no issues (0 silenced).\n",
      "June 23, 2022 - 17:40:29\n",
      "Django version 3.2.6, using settings 'user_management.settings'\n",
      "Starting development server at http://127.0.0.1:8000/\n",
      "Quit the server with CONTROL-C.\n",
      "[23/Jun/2022 17:40:34] \u001b[m\"GET / HTTP/1.1\" 200 2923\u001b[0m\n",
      "[23/Jun/2022 17:40:37] \u001b[m\"GET /login/ HTTP/1.1\" 200 6442\u001b[0m\n",
      "[23/Jun/2022 17:40:48] \u001b[m\"GET /register/ HTTP/1.1\" 200 6875\u001b[0m\n"
     ]
    }
   ],
   "source": [
    "!python user-profile-system/manage.py runserver"
   ]
  }
 ],
 "metadata": {
  "kernelspec": {
   "display_name": "Python 3",
   "language": "python",
   "name": "python3"
  },
  "language_info": {
   "codemirror_mode": {
    "name": "ipython",
    "version": 3
   },
   "file_extension": ".py",
   "mimetype": "text/x-python",
   "name": "python",
   "nbconvert_exporter": "python",
   "pygments_lexer": "ipython3",
   "version": "3.8.5"
  }
 },
 "nbformat": 4,
 "nbformat_minor": 4
}
