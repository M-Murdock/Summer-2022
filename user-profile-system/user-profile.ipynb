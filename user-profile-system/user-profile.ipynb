{
 "cells": [
  {
   "cell_type": "markdown",
   "metadata": {},
   "source": [
    "This notebook is an experimentation with building user profiles using Django (following [this](https://dev.to/earthcomfy/creating-a-django-registration-login-app-part-i-1di5) tutorial)"
   ]
  },
  {
   "cell_type": "markdown",
   "metadata": {},
   "source": [
    "### Installations"
   ]
  },
  {
   "cell_type": "markdown",
   "metadata": {},
   "source": [
    "NOTE: If adding a new column to the database, first delete 'db.sqlite3', then rerun this notebook"
   ]
  },
  {
   "cell_type": "code",
   "execution_count": 1,
   "metadata": {},
   "outputs": [
    {
     "name": "stdout",
     "output_type": "stream",
     "text": [
      "Requirement already satisfied: Django in /opt/anaconda3/lib/python3.8/site-packages (3.2.6)\r\n",
      "Requirement already satisfied: asgiref<4,>=3.3.2 in /opt/anaconda3/lib/python3.8/site-packages (from Django) (3.5.2)\r\n",
      "Requirement already satisfied: pytz in /opt/anaconda3/lib/python3.8/site-packages (from Django) (2020.1)\r\n",
      "Requirement already satisfied: sqlparse>=0.2.2 in /opt/anaconda3/lib/python3.8/site-packages (from Django) (0.4.2)\r\n"
     ]
    }
   ],
   "source": [
    "!pip install Django\n",
    "import django"
   ]
  },
  {
   "cell_type": "code",
   "execution_count": 6,
   "metadata": {
    "scrolled": true
   },
   "outputs": [
    {
     "name": "stdout",
     "output_type": "stream",
     "text": [
      "Requirement already satisfied: Django==3.2.6 in /opt/anaconda3/lib/python3.8/site-packages (from -r ./requirements.txt (line 1)) (3.2.6)\n",
      "Requirement already satisfied: Pillow==8.3.1 in /opt/anaconda3/lib/python3.8/site-packages (from -r ./requirements.txt (line 2)) (8.3.1)\n",
      "Requirement already satisfied: python-dotenv==0.19.0 in /opt/anaconda3/lib/python3.8/site-packages (from -r ./requirements.txt (line 3)) (0.19.0)\n",
      "Requirement already satisfied: social-auth-app-django==5.0.0 in /opt/anaconda3/lib/python3.8/site-packages (from -r ./requirements.txt (line 4)) (5.0.0)\n",
      "Requirement already satisfied: asgiref<4,>=3.3.2 in /opt/anaconda3/lib/python3.8/site-packages (from Django==3.2.6->-r ./requirements.txt (line 1)) (3.5.2)\n",
      "Requirement already satisfied: sqlparse>=0.2.2 in /opt/anaconda3/lib/python3.8/site-packages (from Django==3.2.6->-r ./requirements.txt (line 1)) (0.4.2)\n",
      "Requirement already satisfied: pytz in /opt/anaconda3/lib/python3.8/site-packages (from Django==3.2.6->-r ./requirements.txt (line 1)) (2020.1)\n",
      "Requirement already satisfied: social-auth-core>=4.1.0 in /opt/anaconda3/lib/python3.8/site-packages (from social-auth-app-django==5.0.0->-r ./requirements.txt (line 4)) (4.3.0)\n",
      "Requirement already satisfied: defusedxml>=0.5.0rc1 in /opt/anaconda3/lib/python3.8/site-packages (from social-auth-core>=4.1.0->social-auth-app-django==5.0.0->-r ./requirements.txt (line 4)) (0.6.0)\n",
      "Requirement already satisfied: requests-oauthlib>=0.6.1 in /opt/anaconda3/lib/python3.8/site-packages (from social-auth-core>=4.1.0->social-auth-app-django==5.0.0->-r ./requirements.txt (line 4)) (1.3.1)\n",
      "Requirement already satisfied: python3-openid>=3.0.10 in /opt/anaconda3/lib/python3.8/site-packages (from social-auth-core>=4.1.0->social-auth-app-django==5.0.0->-r ./requirements.txt (line 4)) (3.2.0)\n",
      "Requirement already satisfied: requests>=2.9.1 in /opt/anaconda3/lib/python3.8/site-packages (from social-auth-core>=4.1.0->social-auth-app-django==5.0.0->-r ./requirements.txt (line 4)) (2.24.0)\n",
      "Requirement already satisfied: PyJWT>=2.0.0 in /opt/anaconda3/lib/python3.8/site-packages (from social-auth-core>=4.1.0->social-auth-app-django==5.0.0->-r ./requirements.txt (line 4)) (2.4.0)\n",
      "Requirement already satisfied: oauthlib>=1.0.3 in /opt/anaconda3/lib/python3.8/site-packages (from social-auth-core>=4.1.0->social-auth-app-django==5.0.0->-r ./requirements.txt (line 4)) (3.2.0)\n",
      "Requirement already satisfied: cryptography>=1.4 in /opt/anaconda3/lib/python3.8/site-packages (from social-auth-core>=4.1.0->social-auth-app-django==5.0.0->-r ./requirements.txt (line 4)) (3.1.1)\n",
      "Requirement already satisfied: urllib3!=1.25.0,!=1.25.1,<1.26,>=1.21.1 in /opt/anaconda3/lib/python3.8/site-packages (from requests>=2.9.1->social-auth-core>=4.1.0->social-auth-app-django==5.0.0->-r ./requirements.txt (line 4)) (1.22)\n",
      "Requirement already satisfied: chardet<4,>=3.0.2 in /opt/anaconda3/lib/python3.8/site-packages (from requests>=2.9.1->social-auth-core>=4.1.0->social-auth-app-django==5.0.0->-r ./requirements.txt (line 4)) (3.0.4)\n",
      "Requirement already satisfied: certifi>=2017.4.17 in /opt/anaconda3/lib/python3.8/site-packages (from requests>=2.9.1->social-auth-core>=4.1.0->social-auth-app-django==5.0.0->-r ./requirements.txt (line 4)) (2020.6.20)\n",
      "Requirement already satisfied: idna<3,>=2.5 in /opt/anaconda3/lib/python3.8/site-packages (from requests>=2.9.1->social-auth-core>=4.1.0->social-auth-app-django==5.0.0->-r ./requirements.txt (line 4)) (2.10)\n",
      "Requirement already satisfied: cffi!=1.11.3,>=1.8 in /opt/anaconda3/lib/python3.8/site-packages (from cryptography>=1.4->social-auth-core>=4.1.0->social-auth-app-django==5.0.0->-r ./requirements.txt (line 4)) (1.14.3)\n",
      "Requirement already satisfied: six>=1.4.1 in /opt/anaconda3/lib/python3.8/site-packages (from cryptography>=1.4->social-auth-core>=4.1.0->social-auth-app-django==5.0.0->-r ./requirements.txt (line 4)) (1.15.0)\n",
      "Requirement already satisfied: pycparser in /opt/anaconda3/lib/python3.8/site-packages (from cffi!=1.11.3,>=1.8->cryptography>=1.4->social-auth-core>=4.1.0->social-auth-app-django==5.0.0->-r ./requirements.txt (line 4)) (2.20)\n"
     ]
    }
   ],
   "source": [
    "!pip install -r ./requirements.txt"
   ]
  },
  {
   "cell_type": "code",
   "execution_count": 8,
   "metadata": {},
   "outputs": [
    {
     "name": "stdout",
     "output_type": "stream",
     "text": [
      "\u001b[36;1mMigrations for 'users':\u001b[0m\r\n",
      "  \u001b[1musers/migrations/0007_alter_profile_year.py\u001b[0m\r\n",
      "    - Alter field year on profile\r\n",
      "\u001b[0m"
     ]
    }
   ],
   "source": [
    "!python ./manage.py makemigrations"
   ]
  },
  {
   "cell_type": "code",
   "execution_count": 9,
   "metadata": {
    "scrolled": true
   },
   "outputs": [
    {
     "name": "stdout",
     "output_type": "stream",
     "text": [
      "\u001b[36;1mOperations to perform:\u001b[0m\n",
      "\u001b[1m  Apply all migrations: \u001b[0madmin, auth, contenttypes, sessions, social_django, users\n",
      "\u001b[36;1mRunning migrations:\u001b[0m\n",
      "  Applying users.0007_alter_profile_year...\u001b[32;1m OK\u001b[0m\n",
      "\u001b[0m"
     ]
    }
   ],
   "source": [
    "!python ./manage.py migrate"
   ]
  },
  {
   "cell_type": "code",
   "execution_count": null,
   "metadata": {
    "scrolled": true
   },
   "outputs": [
    {
     "name": "stdout",
     "output_type": "stream",
     "text": [
      "Watching for file changes with StatReloader\n",
      "Performing system checks...\n",
      "\n",
      "System check identified no issues (0 silenced).\n",
      "June 29, 2022 - 14:46:06\n",
      "Django version 3.2.6, using settings 'user_management.settings'\n",
      "Starting development server at http://127.0.0.1:8000/\n",
      "Quit the server with CONTROL-C.\n",
      "[29/Jun/2022 14:46:09] \u001b[m\"GET / HTTP/1.1\" 200 3006\u001b[0m\n",
      "Not Found: /favicon.ico\n",
      "[29/Jun/2022 14:46:09] \u001b[33m\"GET /favicon.ico HTTP/1.1\" 404 4093\u001b[0m\n",
      "[29/Jun/2022 14:46:12] \u001b[m\"GET /exercises/ HTTP/1.1\" 200 3108\u001b[0m\n",
      "[29/Jun/2022 14:46:14] \u001b[m\"GET /progress/ HTTP/1.1\" 200 2830\u001b[0m\n",
      "[29/Jun/2022 14:46:16] \u001b[m\"GET /profile/ HTTP/1.1\" 200 5054\u001b[0m\n",
      "[29/Jun/2022 14:46:17] \u001b[m\"GET /exercises/ HTTP/1.1\" 200 3108\u001b[0m\n",
      "[29/Jun/2022 14:46:20] \u001b[m\"GET / HTTP/1.1\" 200 3006\u001b[0m\n",
      "[29/Jun/2022 16:41:47] \u001b[m\"GET /logout/ HTTP/1.1\" 200 2779\u001b[0m\n",
      "[29/Jun/2022 16:41:49] \u001b[m\"GET /login/ HTTP/1.1\" 200 6310\u001b[0m\n",
      "[29/Jun/2022 16:41:52] \u001b[32m\"POST /login/ HTTP/1.1\" 302 0\u001b[0m\n",
      "[29/Jun/2022 16:41:52] \u001b[m\"GET / HTTP/1.1\" 200 3006\u001b[0m\n",
      "[29/Jun/2022 16:41:54] \u001b[m\"GET /profile/ HTTP/1.1\" 200 5054\u001b[0m\n",
      "[29/Jun/2022 16:42:00] \u001b[m\"GET /progress/ HTTP/1.1\" 200 2830\u001b[0m\n",
      "[29/Jun/2022 16:42:06] \u001b[m\"GET /exercises/ HTTP/1.1\" 200 3108\u001b[0m\n"
     ]
    }
   ],
   "source": [
    "!python ./manage.py runserver"
   ]
  },
  {
   "cell_type": "markdown",
   "metadata": {},
   "source": [
    "### Potentially Useful Links"
   ]
  },
  {
   "cell_type": "markdown",
   "metadata": {},
   "source": [
    "This documentation on [django authentication](https://docs.djangoproject.com/en/4.0/topics/auth/default/) may prove useful if we decide to assign different roles (i.e. student and instructor)"
   ]
  },
  {
   "cell_type": "markdown",
   "metadata": {},
   "source": [
    "[This](https://stackoverflow.com/questions/41990794/django-executing-python-code-in-html) page describes how to execute python code in html with Django"
   ]
  },
  {
   "cell_type": "markdown",
   "metadata": {},
   "source": [
    "[Gradio](https://gradio.app/using_hugging_face_integrations/) allows its apps to be embedded into html"
   ]
  }
 ],
 "metadata": {
  "kernelspec": {
   "display_name": "Python 3",
   "language": "python",
   "name": "python3"
  },
  "language_info": {
   "codemirror_mode": {
    "name": "ipython",
    "version": 3
   },
   "file_extension": ".py",
   "mimetype": "text/x-python",
   "name": "python",
   "nbconvert_exporter": "python",
   "pygments_lexer": "ipython3",
   "version": "3.8.5"
  }
 },
 "nbformat": 4,
 "nbformat_minor": 4
}
