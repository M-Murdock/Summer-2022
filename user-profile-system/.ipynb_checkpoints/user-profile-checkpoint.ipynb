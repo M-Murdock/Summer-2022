{
 "cells": [
  {
   "cell_type": "markdown",
   "metadata": {},
   "source": [
    "This notebook is an experimentation with building user profiles using Django (following [this](https://dev.to/earthcomfy/creating-a-django-registration-login-app-part-i-1di5) tutorial)"
   ]
  },
  {
   "cell_type": "markdown",
   "metadata": {},
   "source": [
    "### Installations"
   ]
  },
  {
   "cell_type": "code",
   "execution_count": 1,
   "metadata": {},
   "outputs": [
    {
     "name": "stdout",
     "output_type": "stream",
     "text": [
      "Requirement already satisfied: Django in /opt/anaconda3/lib/python3.8/site-packages (4.0.5)\n",
      "Requirement already satisfied: asgiref<4,>=3.4.1 in /opt/anaconda3/lib/python3.8/site-packages (from Django) (3.5.2)\n",
      "Requirement already satisfied: backports.zoneinfo; python_version < \"3.9\" in /opt/anaconda3/lib/python3.8/site-packages (from Django) (0.2.1)\n",
      "Requirement already satisfied: sqlparse>=0.2.2 in /opt/anaconda3/lib/python3.8/site-packages (from Django) (0.4.2)\n"
     ]
    }
   ],
   "source": [
    "!pip install Django\n",
    "import django"
   ]
  },
  {
   "cell_type": "markdown",
   "metadata": {},
   "source": [
    "### Create a new project"
   ]
  },
  {
   "cell_type": "code",
   "execution_count": 2,
   "metadata": {},
   "outputs": [
    {
     "name": "stdout",
     "output_type": "stream",
     "text": [
      "\u001b[0m"
     ]
    }
   ],
   "source": [
    "!django-admin startproject testSite"
   ]
  },
  {
   "cell_type": "code",
   "execution_count": 12,
   "metadata": {},
   "outputs": [
    {
     "name": "stdout",
     "output_type": "stream",
     "text": [
      "Traceback (most recent call last):\r\n",
      "  File \"testSite/manage.py\", line 22, in <module>\r\n",
      "    main()\r\n",
      "  File \"testSite/manage.py\", line 18, in main\r\n",
      "    execute_from_command_line(sys.argv)\r\n",
      "  File \"/opt/anaconda3/lib/python3.8/site-packages/django/core/management/__init__.py\", line 446, in execute_from_command_line\r\n",
      "    utility.execute()\r\n",
      "  File \"/opt/anaconda3/lib/python3.8/site-packages/django/core/management/__init__.py\", line 420, in execute\r\n",
      "    django.setup()\r\n",
      "  File \"/opt/anaconda3/lib/python3.8/site-packages/django/__init__.py\", line 24, in setup\r\n",
      "    apps.populate(settings.INSTALLED_APPS)\r\n",
      "  File \"/opt/anaconda3/lib/python3.8/site-packages/django/apps/registry.py\", line 91, in populate\r\n",
      "    app_config = AppConfig.create(entry)\r\n",
      "  File \"/opt/anaconda3/lib/python3.8/site-packages/django/apps/config.py\", line 228, in create\r\n",
      "    import_module(entry)\r\n",
      "  File \"/opt/anaconda3/lib/python3.8/importlib/__init__.py\", line 127, in import_module\r\n",
      "    return _bootstrap._gcd_import(name[level:], package, level)\r\n",
      "  File \"<frozen importlib._bootstrap>\", line 1014, in _gcd_import\r\n",
      "  File \"<frozen importlib._bootstrap>\", line 991, in _find_and_load\r\n",
      "  File \"<frozen importlib._bootstrap>\", line 973, in _find_and_load_unlocked\r\n",
      "ModuleNotFoundError: No module named 'users'\r\n",
      "\u001b[0m"
     ]
    }
   ],
   "source": [
    "!python testSite/manage.py startapp users"
   ]
  }
 ],
 "metadata": {
  "kernelspec": {
   "display_name": "Python 3",
   "language": "python",
   "name": "python3"
  },
  "language_info": {
   "codemirror_mode": {
    "name": "ipython",
    "version": 3
   },
   "file_extension": ".py",
   "mimetype": "text/x-python",
   "name": "python",
   "nbconvert_exporter": "python",
   "pygments_lexer": "ipython3",
   "version": "3.8.5"
  }
 },
 "nbformat": 4,
 "nbformat_minor": 4
}
