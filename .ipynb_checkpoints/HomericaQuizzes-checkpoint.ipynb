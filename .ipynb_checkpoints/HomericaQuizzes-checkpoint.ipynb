{
 "cells": [
  {
   "cell_type": "markdown",
   "metadata": {},
   "source": [
    "These questions are drawn from the [Homerica](https://github.com/gregorycrane/Homerica/tree/master/quizzes) quizzes"
   ]
  },
  {
   "cell_type": "markdown",
   "metadata": {},
   "source": [
    "## Imports"
   ]
  },
  {
   "cell_type": "code",
   "execution_count": 180,
   "metadata": {
    "scrolled": true
   },
   "outputs": [
    {
     "name": "stdout",
     "output_type": "stream",
     "text": [
      "Requirement already up-to-date: typing-extensions in /opt/anaconda3/lib/python3.8/site-packages (4.2.0)\n",
      "Requirement already satisfied: gradio in /opt/anaconda3/lib/python3.8/site-packages (3.0.13)\n",
      "Requirement already satisfied: python-multipart in /opt/anaconda3/lib/python3.8/site-packages (from gradio) (0.0.5)\n",
      "Requirement already satisfied: fastapi in /opt/anaconda3/lib/python3.8/site-packages (from gradio) (0.78.0)\n",
      "Requirement already satisfied: matplotlib in /opt/anaconda3/lib/python3.8/site-packages (from gradio) (3.3.2)\n",
      "Requirement already satisfied: aiohttp in /opt/anaconda3/lib/python3.8/site-packages (from gradio) (3.8.1)\n",
      "Requirement already satisfied: paramiko in /opt/anaconda3/lib/python3.8/site-packages (from gradio) (2.11.0)\n",
      "Requirement already satisfied: orjson in /opt/anaconda3/lib/python3.8/site-packages (from gradio) (3.7.2)\n",
      "Requirement already satisfied: ffmpy in /opt/anaconda3/lib/python3.8/site-packages (from gradio) (0.3.0)\n",
      "Requirement already satisfied: numpy in /opt/anaconda3/lib/python3.8/site-packages (from gradio) (1.19.2)\n",
      "Requirement already satisfied: pycryptodome in /opt/anaconda3/lib/python3.8/site-packages (from gradio) (3.14.1)\n",
      "Requirement already satisfied: pandas in /Users/mallard/.local/lib/python3.8/site-packages (from gradio) (1.4.2)\n",
      "Requirement already satisfied: markdown-it-py[linkify,plugins] in /opt/anaconda3/lib/python3.8/site-packages (from gradio) (2.1.0)\n",
      "Requirement already satisfied: pydub in /opt/anaconda3/lib/python3.8/site-packages (from gradio) (0.25.1)\n",
      "Requirement already satisfied: pillow in /opt/anaconda3/lib/python3.8/site-packages (from gradio) (8.0.1)\n",
      "Requirement already satisfied: requests in /opt/anaconda3/lib/python3.8/site-packages (from gradio) (2.24.0)\n",
      "Requirement already satisfied: uvicorn in /opt/anaconda3/lib/python3.8/site-packages (from gradio) (0.17.6)\n",
      "Requirement already satisfied: Jinja2 in /opt/anaconda3/lib/python3.8/site-packages (from gradio) (2.11.2)\n",
      "Requirement already satisfied: analytics-python in /opt/anaconda3/lib/python3.8/site-packages (from gradio) (1.4.0)\n",
      "Requirement already satisfied: six>=1.4.0 in /opt/anaconda3/lib/python3.8/site-packages (from python-multipart->gradio) (1.15.0)\n",
      "Requirement already satisfied: starlette==0.19.1 in /opt/anaconda3/lib/python3.8/site-packages (from fastapi->gradio) (0.19.1)\n",
      "Requirement already satisfied: pydantic!=1.7,!=1.7.1,!=1.7.2,!=1.7.3,!=1.8,!=1.8.1,<2.0.0,>=1.6.2 in /opt/anaconda3/lib/python3.8/site-packages (from fastapi->gradio) (1.8.2)\n",
      "Requirement already satisfied: certifi>=2020.06.20 in /opt/anaconda3/lib/python3.8/site-packages (from matplotlib->gradio) (2020.6.20)\n",
      "Requirement already satisfied: pyparsing!=2.0.4,!=2.1.2,!=2.1.6,>=2.0.3 in /opt/anaconda3/lib/python3.8/site-packages (from matplotlib->gradio) (2.4.7)\n",
      "Requirement already satisfied: python-dateutil>=2.1 in /opt/anaconda3/lib/python3.8/site-packages (from matplotlib->gradio) (2.8.1)\n",
      "Requirement already satisfied: kiwisolver>=1.0.1 in /opt/anaconda3/lib/python3.8/site-packages (from matplotlib->gradio) (1.3.0)\n",
      "Requirement already satisfied: cycler>=0.10 in /opt/anaconda3/lib/python3.8/site-packages (from matplotlib->gradio) (0.10.0)\n",
      "Requirement already satisfied: multidict<7.0,>=4.5 in /opt/anaconda3/lib/python3.8/site-packages (from aiohttp->gradio) (6.0.2)\n",
      "Requirement already satisfied: aiosignal>=1.1.2 in /opt/anaconda3/lib/python3.8/site-packages (from aiohttp->gradio) (1.2.0)\n",
      "Requirement already satisfied: async-timeout<5.0,>=4.0.0a3 in /opt/anaconda3/lib/python3.8/site-packages (from aiohttp->gradio) (4.0.2)\n",
      "Requirement already satisfied: yarl<2.0,>=1.0 in /opt/anaconda3/lib/python3.8/site-packages (from aiohttp->gradio) (1.7.2)\n",
      "Requirement already satisfied: charset-normalizer<3.0,>=2.0 in /opt/anaconda3/lib/python3.8/site-packages (from aiohttp->gradio) (2.0.12)\n",
      "Requirement already satisfied: attrs>=17.3.0 in /opt/anaconda3/lib/python3.8/site-packages (from aiohttp->gradio) (20.3.0)\n",
      "Requirement already satisfied: frozenlist>=1.1.1 in /opt/anaconda3/lib/python3.8/site-packages (from aiohttp->gradio) (1.3.0)\n",
      "Requirement already satisfied: pynacl>=1.0.1 in /opt/anaconda3/lib/python3.8/site-packages (from paramiko->gradio) (1.5.0)\n",
      "Requirement already satisfied: bcrypt>=3.1.3 in /opt/anaconda3/lib/python3.8/site-packages (from paramiko->gradio) (3.2.2)\n",
      "Requirement already satisfied: cryptography>=2.5 in /opt/anaconda3/lib/python3.8/site-packages (from paramiko->gradio) (3.1.1)\n",
      "Requirement already satisfied: pytz>=2020.1 in /opt/anaconda3/lib/python3.8/site-packages (from pandas->gradio) (2020.1)\n",
      "Requirement already satisfied: mdurl~=0.1 in /opt/anaconda3/lib/python3.8/site-packages (from markdown-it-py[linkify,plugins]->gradio) (0.1.1)\n",
      "Requirement already satisfied: linkify-it-py~=1.0; extra == \"linkify\" in /opt/anaconda3/lib/python3.8/site-packages (from markdown-it-py[linkify,plugins]->gradio) (1.0.3)\n",
      "Requirement already satisfied: mdit-py-plugins; extra == \"plugins\" in /opt/anaconda3/lib/python3.8/site-packages (from markdown-it-py[linkify,plugins]->gradio) (0.3.0)\n",
      "Requirement already satisfied: idna<3,>=2.5 in /opt/anaconda3/lib/python3.8/site-packages (from requests->gradio) (2.10)\n",
      "Requirement already satisfied: urllib3!=1.25.0,!=1.25.1,<1.26,>=1.21.1 in /opt/anaconda3/lib/python3.8/site-packages (from requests->gradio) (1.22)\n",
      "Requirement already satisfied: chardet<4,>=3.0.2 in /opt/anaconda3/lib/python3.8/site-packages (from requests->gradio) (3.0.4)\n",
      "Requirement already satisfied: asgiref>=3.4.0 in /opt/anaconda3/lib/python3.8/site-packages (from uvicorn->gradio) (3.5.2)\n",
      "Requirement already satisfied: h11>=0.8 in /opt/anaconda3/lib/python3.8/site-packages (from uvicorn->gradio) (0.13.0)\n",
      "Requirement already satisfied: click>=7.0 in /opt/anaconda3/lib/python3.8/site-packages (from uvicorn->gradio) (7.1.2)\n",
      "Requirement already satisfied: MarkupSafe>=0.23 in /opt/anaconda3/lib/python3.8/site-packages (from Jinja2->gradio) (1.1.1)\n",
      "Requirement already satisfied: monotonic>=1.5 in /opt/anaconda3/lib/python3.8/site-packages (from analytics-python->gradio) (1.6)\n",
      "Requirement already satisfied: backoff==1.10.0 in /opt/anaconda3/lib/python3.8/site-packages (from analytics-python->gradio) (1.10.0)\n",
      "Requirement already satisfied: typing-extensions>=3.10.0; python_version < \"3.10\" in /opt/anaconda3/lib/python3.8/site-packages (from starlette==0.19.1->fastapi->gradio) (4.2.0)\n",
      "Requirement already satisfied: anyio<5,>=3.4.0 in /opt/anaconda3/lib/python3.8/site-packages (from starlette==0.19.1->fastapi->gradio) (3.6.1)\n",
      "Requirement already satisfied: cffi>=1.4.1 in /opt/anaconda3/lib/python3.8/site-packages (from pynacl>=1.0.1->paramiko->gradio) (1.14.3)\n",
      "Requirement already satisfied: uc-micro-py in /opt/anaconda3/lib/python3.8/site-packages (from linkify-it-py~=1.0; extra == \"linkify\"->markdown-it-py[linkify,plugins]->gradio) (1.0.1)\n",
      "Requirement already satisfied: sniffio>=1.1 in /opt/anaconda3/lib/python3.8/site-packages (from anyio<5,>=3.4.0->starlette==0.19.1->fastapi->gradio) (1.2.0)\n",
      "Requirement already satisfied: pycparser in /opt/anaconda3/lib/python3.8/site-packages (from cffi>=1.4.1->pynacl>=1.0.1->paramiko->gradio) (2.20)\n",
      "Requirement already satisfied: greek-accentuation==1.2.0 in /opt/anaconda3/lib/python3.8/site-packages (1.2.0)\n",
      "Requirement already satisfied: greek-normalisation in /opt/anaconda3/lib/python3.8/site-packages (0.5.1)\n"
     ]
    }
   ],
   "source": [
    "!pip install typing-extensions --upgrade\n",
    "!pip install gradio\n",
    "!pip install greek-accentuation==1.2.0\n",
    "!pip install greek-normalisation\n",
    "import pandas as pd\n",
    "import re\n",
    "import string\n",
    "from greek_accentuation.syllabify import *\n",
    "from greek_normalisation.utils import *"
   ]
  },
  {
   "cell_type": "markdown",
   "metadata": {},
   "source": [
    "## Process Files"
   ]
  },
  {
   "cell_type": "markdown",
   "metadata": {},
   "source": [
    "Define the quiz file below:"
   ]
  },
  {
   "cell_type": "code",
   "execution_count": 181,
   "metadata": {},
   "outputs": [],
   "source": [
    "quiz = 'lib/a_hs.txt'"
   ]
  },
  {
   "cell_type": "markdown",
   "metadata": {},
   "source": [
    "Get the relevant data from the quiz"
   ]
  },
  {
   "cell_type": "code",
   "execution_count": 182,
   "metadata": {
    "scrolled": true
   },
   "outputs": [
    {
     "name": "stdout",
     "output_type": "stream",
     "text": [
      "{'greek answer': 'θαλάσσης', 'english answer': 'sea', 'greek sent': \"[1.34] βῆ δ' ἀκέων παρὰ θῖνα πολυφλοίσβοιο ________· [34] [\", 'english sent': 'He] walked  in silence to [the] shore of [the] loudly-roaring sea. </s> a_hs n-s---fg- Il. 1.34\\n'}\n",
      "\n",
      "\n",
      "{'greek answer': 'Κίλλάν', 'english answer': 'Cilla', 'greek sent': \"[1.37] κλῦθί μευ ἀργυρότοξ', ὃς Χρύσην ἀμφιβέβηκας [1.38] ______ τε ζαθέην Τενέδοιό τε ἶφι ἀνάσσεις, [1.39] Σμινθεῦ εἴ ποτέ τοι χαρίεντ' ἐπὶ νηὸν ἔρεψα, [1.40] ἢ εἰ δή ποτέ τοι κατὰ πίονα μηρί' ἔκηα [1.41] ταύρων ἠδ' αἰγῶν, τὸ δέ μοι κρήηνον ἐέλδωρ· [37]“\", 'english sent': 'Hear me, silver-bowed one, [you] who stands guard over Chrysa [38] and sacred Cilla, and are lord of  Tenedos by force,</s> a_hs n-s---fa- Il. 1.38\\n'}\n",
      "\n",
      "\n",
      "{'greek answer': 'κνίσης', 'english answer': '<add>the</add> rich aroma', 'greek sent': \"[1.62] ἀλλ' ἄγε δή τινα μάντιν ἐρείομεν ἢ ἱερῆα [1.63] ἢ καὶ ὀνειροπόλον, καὶ γάρ τ' ὄναρ ἐκ Διός ἐστιν, [1.64] ὅς κ' εἴποι ὅ τι τόσσον ἐχώσατο Φοῖβος Ἀπόλλων, [1.65] εἴτ' ἄρ' ὅ γ' εὐχωλῆς ἐπιμέμφεται ἠδ' ἑκατόμβης, [1.66] αἴ κέν πως ἀρνῶν ______ αἰγῶν τε τελείων [1.67] βούλεται ἀντιάσας ἡμῖν ἀπὸ λοιγὸν ἀμῦναι. [62] \", 'english sent': 'Instead, come,  let [us] ask either some seer or sacrifice-leader, [63] or even [a] dream-interpreter, for  [a] dream is also from Zeus. [64] That man may say why Phoebus Apollo became so greatly filled with anger; [65] whether  he reproaches [us] on account of [a] vow or [a] sacrifice, [66] or if [he] in any way, having met with [the] rich aroma of fully-grown sheep and goats, [67] would be willing to avert destruction from us.”</s> a_hs n-s---fg- Il. 1.66\\n'}\n",
      "\n",
      "\n",
      "{'greek answer': 'βωτιανείρῃ', 'english answer': 'warrior-nourishing', 'greek sent': \"[1.154] οὐ γὰρ πώποτ' ἐμὰς βοῦς ἤλασαν οὐ δὲ μὲν ἵππους [1.155], οὐ δέ ποτ' ἐν Φθίῃ ἐριβώλακι __________ [1.156] καρπὸν ἐδηλήσαντ', ἐπεὶ ἦ μάλα πολλὰ μεταξὺ [1.157] οὔρεά τε σκιόεντα θάλασσά τε ἠχήεσσα· [154] \", 'english sent': 'for [they] did not ever drive away my cattle, nor  [my] horses, [155] nor in warrior-nourishing, fertile Phthia did [they] ever [156] harm [the] harvest, since there [are] many [things] between:    [157] many  shady mountains and also [the] roaring sea.</s> a_hs n-s---fd- Il. 1.155\\n'}\n",
      "\n",
      "\n",
      "{'greek answer': 'θάλασσά', 'english answer': 'sea', 'greek sent': \"[1.154] οὐ γὰρ πώποτ' ἐμὰς βοῦς ἤλασαν οὐ δὲ μὲν ἵππους [1.155], οὐ δέ ποτ' ἐν Φθίῃ ἐριβώλακι βωτιανείρῃ [1.156] καρπὸν ἐδηλήσαντ', ἐπεὶ ἦ μάλα πολλὰ μεταξὺ [1.157] οὔρεά τε σκιόεντα _______ τε ἠχήεσσα· [154] \", 'english sent': 'for [they] did not ever drive away my cattle, nor  [my] horses, [155] nor in warrior-nourishing, fertile Phthia did [they] ever [156] harm [the] harvest, since there [are] many [things] between:    [157] many  shady mountains and also [the] roaring sea.</s> a_hs n-s---fn- Il. 1.157\\n'}\n",
      "\n",
      "\n",
      "{'greek answer': 'γαίῃ', 'english answer': '<add>the</add> ground', 'greek sent': '[1.245] ποτὶ δὲ σκῆπτρον βάλε ____ [1.246] χρυσείοις ἥλοισι πεπαρμένον, ', 'english sent': 'And [he] flung against [the] ground [the] staff, [246] drilled with golden studs.</s> a_hs n-s---fd- Il. 1.245\\n'}\n",
      "\n",
      "\n",
      "{'greek answer': 'γλώσσης', 'english answer': 'tongue', 'greek sent': '[1.247] τοῖσι δὲ Νέστωρ [1.248] ἡδυεπὴς ἀνόρουσε λιγὺς Πυλίων ἀγορητής, [1.249] τοῦ καὶ ἀπὸ _______ μέλιτος γλυκίων ῥέεν αὐδή· ', 'english sent': 'And among them Nestor, [248] pleasing in speech lept up, [the] articulate assembly-speaker of [the] Pylians, [249] and from that man’s tongue speech began to flow, sweeter than honey.</s> a_hs n-s---fg- Il. 1.249\\n'}\n",
      "\n",
      "\n",
      "{'greek answer': 'γαῖαν', 'english answer': 'land', 'greek sent': '[1.254] ὦ πόποι ἦ μέγα πένθος Ἀχαιΐδα _____ ἱκάνει· [254]“', 'english sent': 'I can’t believe it! For sure great sorrow has reached [the] Achaean  land;</s> a_hs n-s---fa- Il. 1.254\\n'}\n",
      "\n",
      "\n",
      "{'greek answer': 'γαίης', 'english answer': 'land', 'greek sent': '[1.269] καὶ μὲν τοῖσιν ἐγὼ μεθομίλεον ἐκ Πύλου ἐλθὼν [1.270] τηλόθεν ἐξ ἀπίης _____· [269] ', 'english sent': 'First,  I  used to spend my time among those men, having come from Pylos, [270] from far away, from a distant land.</s> a_hs n-s---fg- Il. 1.270\\n'}\n",
      "\n",
      "\n",
      "{'greek answer': 'πότνια', 'english answer': '<add>his</add> revered', 'greek sent': \"[1.357] τοῦ δ' ἔκλυε ______ μήτηρ [1.358] ἡμένη ἐν βένθεσσιν ἁλὸς παρὰ πατρὶ γέροντι· \", 'english sent': 'That man [his] revered mother heard, [358] sitting in [the] depths of [the] sea beside [her] father, [an] old man.</s> a_hs a-s---fn- Il. 1.357\\n'}\n",
      "\n",
      "\n",
      "{'greek answer': 'αἶσα', 'english answer': '<add>the</add> fate assigned', 'greek sent': \"[1.415] αἴθ' ὄφελες παρὰ νηυσὶν ἀδάκρυτος καὶ ἀπήμων [1.416] ἧσθαι, ἐπεί νύ τοι ____ μίνυνθά περ οὔ τι μάλα δήν· [415] \", 'english sent': 'I wish [you] might be able, beside [the] ships, without tears and without suffering, [416] to remain quietly! since, even now, [the] fate assigned to you [is] brief as it is, is not very long at all.</s> a_hs n-s---fn- Il. 1.416\\n'}\n",
      "\n",
      "\n",
      "{'greek answer': 'Κίλλαν', 'english answer': 'Cilla', 'greek sent': \"[1.451] κλῦθί μευ ἀργυρότοξ', ὃς Χρύσην ἀμφιβέβηκας [1.452] ______ τε ζαθέην Τενέδοιό τε ἶφι ἀνάσσεις· [451]“\", 'english sent': 'Listen to me, silver-bowed [one], [you] who encircled Chrysa [452] and sacred Cilla, and are lord of Tenedos by force.</s> a_hs n-s---fa- Il. 1.452\\n'}\n",
      "\n",
      "\n",
      "{'greek answer': 'κνίσῃ', 'english answer': '<add>them</add> in fat', 'greek sent': \"[1.458] αὐτὰρ ἐπεί ῥ' εὔξαντο καὶ οὐλοχύτας προβάλοντο, [1.459] αὐέρυσαν μὲν πρῶτα καὶ ἔσφαξαν καὶ ἔδειραν, [1.460] μηρούς τ' ἐξέταμον κατά τε _____ ἐκάλυψαν [1.461] δίπτυχα ποιήσαντες, ἐπ' αὐτῶν δ' ὠμοθέτησαν· [458] \", 'english sent': 'But  then after [they] prayed and cast forth [the] ground barley, [459] [they] first pulled back  the heads of the [offerings], and [then] slaughtered and  flayed [them]. [460] [They] cut away [the] thighs  and wrapped up and down [them] in fat, [461] having made [it] double-folded.</s> a_hs n-s---fd- Il. 1.460\\n'}\n",
      "\n",
      "\n",
      "{'greek answer': 'σχίζῃς', 'english answer': 'skewers', 'greek sent': \"[1.462] καῖε δ' ἐπὶ ______ ὁ γέρων, ἐπὶ δ' αἴθοπα οἶνον [1.463] λεῖβε· [462] \", 'english sent': 'The old man began to burn [them] on skewers.</s> a_hs n-p---fd- Il. 1.462\\n'}\n",
      "\n",
      "\n",
      "{'greek answer': 'ἠριγένεια', 'english answer': 'early-born', 'greek sent': \"[1.477] ἦμος δ' _________ φάνη ῥοδοδάκτυλος Ἠώς, [1.478] καὶ τότ' ἔπειτ' ἀνάγοντο μετὰ στρατὸν εὐρὺν Ἀχαιῶν· [477] \", 'english sent': 'And when early-born, rosy-fingered Dawn appeared, [478] right at that time then [they] began bringing themselves back to the midst of [the] broad camp of [the] Achaeans.</s> a_hs a-s---fn- Il. 1.477\\n'}\n",
      "\n",
      "\n",
      "{'greek answer': 'στείρῃ', 'english answer': 'against <add>the</add> front', 'greek sent': \"[1.481] ἀμφὶ δὲ κῦμα [1.482] ______ πορφύρεον μεγάλ' ἴαχε νηὸς ἰούσης· \", 'english sent': 'And on both sides [a] wave, [482] surging, was splashing against [the] front of [the] ship, as it travelled.</s> a_hs n-s---fd- Il. 1.482\\n'}\n",
      "\n",
      "\n",
      "{'greek answer': 'κυδιάνειραν', 'english answer': 'that brings glory to men', 'greek sent': \"[1.490] οὔτέ ποτ' εἰς ἀγορὴν πωλέσκετο ___________ [1.491] οὔτέ ποτ' ἐς πόλεμον, ἀλλὰ φθινύθεσκε φίλον κῆρ [1.492] αὖθι μένων, ποθέεσκε δ' ἀϋτήν τε πτόλεμόν τε. [490] \", 'english sent': 'Neither did [he] ever resume his habit of entering into [the] assembly that brings glory to men, [491] nor into war.</s> a_hs a-s---fa- Il. 1.490\\n'}\n",
      "\n",
      "\n",
      "{'greek answer': 'θαλάσσης', 'english answer': 'of <add>the</add> sea', 'greek sent': \"[1.496] ἀλλ' ἥ γ' ἀνεδύσετο κῦμα ________. \", 'english sent': 'Far from it: that woman rose up over [a] wave of [the] sea.</s> a_hs n-s---fg- Il. 1.496\\n'}\n",
      "\n",
      "\n",
      "{'greek answer': 'ἀργυρόπεζα', 'english answer': 'silver-footed', 'greek sent': \"[1.536] οὐ δέ μιν Ἥρη [1.537] ἠγνοίησεν ἰδοῦσ' ὅτι οἱ συμφράσσατο βουλὰς [1.538] __________ Θέτις θυγάτηρ ἁλίοιο γέροντος. \", 'english sent': 'But Hera, when she had seen him, did not  [537] fail to understand that [she] had fashioned  plans together with him, [538] silver-footed Thetis, [the] daughter of [the] old man of [the] sea.</s> a_hs a-s---fn- Il. 1.538\\n'}\n",
      "\n",
      "\n",
      "{'greek answer': 'πότνια', 'english answer': 'revered', 'greek sent': \"[1.551] τὸν δ' ἠμείβετ' ἔπειτα βοῶπις ______ Ἥρη· [551] \", 'english sent': 'Then  [she] began to answer him, [the] ox-eyed, revered Hera:</s> a_hs n-s---fn- Il. 1.551\\n'}\n",
      "\n",
      "\n",
      "{'greek answer': 'ἀργυρόπεζα', 'english answer': 'silver-footed', 'greek sent': \"[1.555] νῦν δ' αἰνῶς δείδοικα κατὰ φρένα μή σε παρείπῃ [1.556] __________ Θέτις θυγάτηρ ἁλίοιο γέροντος· [555] \", 'english sent': 'And now [I] am filled with fear horribly down through [my] heart, that [she] may have convinced you, [556] silver-footed Thetis, daughter of [the] old man of [the] sea.</s> a_hs a-s---fn- Il. 1.556\\n'}\n",
      "\n",
      "\n",
      "{'greek answer': 'πότνια', 'english answer': 'revered', 'greek sent': '[1.568] ἔδεισεν δὲ βοῶπις ______ Ἥρη, ', 'english sent': 'And [she] became frightened, [the] ox-eyed, revered Hera.</s> a_hs a-s---fn- Il. 1.568\\n'}\n",
      "\n",
      "\n",
      "{'greek answer': 'Μουσάων', 'english answer': 'of <add>the</add> Muses', 'greek sent': \"[1.602] οὐ δέ τι θυμὸς ἐδεύετο δαιτὸς ἐΐσης, [1.603] οὐ μὲν φόρμιγγος περικαλλέος ἣν ἔχ' Ἀπόλλων, [1.604] _______ θ' αἳ ἄειδον ἀμειβόμεναι ὀπὶ καλῇ. \", 'english sent': 'Neither was [their] heart lacking anything of the equally-divided feast, [603] nor indeed of [the] outstandingly beautiful lyre, which Apollo was holding,   [604] nor of [the] Muses, who were singing, taking turns, with [a] beautiful voice.</s> a_hs n-p---fg- Il. 1.604\\n'}\n",
      "\n",
      "\n"
     ]
    }
   ],
   "source": [
    "# list to hold each line of the file\n",
    "lines = []\n",
    "# list of dictionaries for holding the Greek answer/translation/Greek sentence/English translation\n",
    "exercises = []\n",
    "\n",
    "# Read in the lines from the file\n",
    "with open(quiz) as f:\n",
    "    # create list for holding the exercises\n",
    "    lines = f.readlines()\n",
    "\n",
    "# For each line, use regex to grab the answer and full sentence\n",
    "for sent in lines:\n",
    "    \n",
    "    # Get the greek answer\n",
    "    greek_ans_end = sent.find('\\t')\n",
    "    greek_answer = sent[0:greek_ans_end]\n",
    "\n",
    "    # Get the english answer\n",
    "    english_ans_end = sent.find('[')\n",
    "    english_answer = sent[greek_ans_end+1:english_ans_end]\n",
    "    # the english is surrounded by quotes, so we'll remove those\n",
    "    english_answer = english_answer.replace(\"\\\"\", \"\")\n",
    "    # remove any extraneous spaces\n",
    "    english_answer = english_answer.strip()\n",
    "\n",
    "    remaining_sent = sent[english_ans_end:]\n",
    "    \n",
    "    \n",
    "    # Get the greek sentence\n",
    "    english_sent_start = remaining_sent.find(re.findall('[A-Za-z]', remaining_sent)[0])\n",
    "    greek_sent = remaining_sent[:english_sent_start]\n",
    "    \n",
    "    # Get the english sentence\n",
    "    english_sent = remaining_sent[english_sent_start:]\n",
    "\n",
    "    # Add everything to our list of dictionaries\n",
    "    exercises.append({\"greek answer\":greek_answer, \"english answer\":english_answer, \"greek sent\":greek_sent, \"english sent\":english_sent})\n",
    "\n",
    "# this is just for testing purposes\n",
    "for i in exercises:\n",
    "    print(i)\n",
    "    print(\"\\n\")\n",
    "\n"
   ]
  },
  {
   "cell_type": "markdown",
   "metadata": {},
   "source": [
    "## Exercises"
   ]
  },
  {
   "cell_type": "code",
   "execution_count": 183,
   "metadata": {},
   "outputs": [],
   "source": [
    "ex = 2"
   ]
  },
  {
   "cell_type": "code",
   "execution_count": 184,
   "metadata": {},
   "outputs": [],
   "source": [
    "# Get the Greek sentence\n",
    "ex_greek_sent = exercises[ex-1][\"greek sent\"]\n",
    "\n",
    "# Get the Greek word (which goes in the blank)\n",
    "blank_word = exercises[ex-1][\"greek answer\"]\n",
    "\n",
    "# Get the English sentence\n",
    "ex_english_sent = exercises[ex-1][\"english sent\"]\n",
    "\n",
    "# Get the English word (which goes in the blank)\n",
    "blank_word_eng = exercises[ex-1][\"english answer\"]"
   ]
  },
  {
   "cell_type": "markdown",
   "metadata": {},
   "source": [
    "### 1. Fill in the blank"
   ]
  },
  {
   "cell_type": "code",
   "execution_count": 185,
   "metadata": {},
   "outputs": [],
   "source": [
    "def greek_blank(input): \n",
    "    # strip the whitespace and punctuation from the input\n",
    "    input = input.strip()\n",
    "    input = ''.join(letter for letter in input if letter not in string.punctuation)\n",
    "    \n",
    "    # check the answer\n",
    "    if input == blank_word:\n",
    "        return 'Correct!'\n",
    "    else:\n",
    "        # check if the accents are incorrect\n",
    "        if input == strip_accents(blank_word):\n",
    "            return 'Almost! Check the accents'\n",
    "        else:\n",
    "            return 'Try again!'\n"
   ]
  },
  {
   "cell_type": "code",
   "execution_count": 191,
   "metadata": {},
   "outputs": [],
   "source": [
    "import gradio as gr\n",
    "\n",
    "\n",
    "def exercise(input):\n",
    "    feedback = greek_blank(input)\n",
    "    return \"%s\" % (feedback)\n",
    "\n",
    "\n",
    "blank_demo = gr.Interface(fn=exercise, \n",
    "                    inputs=[gr.Textbox(lines=2, placeholder=\"Fill in the blank here...\", label=ex_greek_sent)],\n",
    "                    outputs=\"text\")\n",
    "\n",
    "# blank_demo.launch()"
   ]
  },
  {
   "cell_type": "markdown",
   "metadata": {},
   "source": [
    "### 2. Given the English sentence and answer, fill in the correct form of the Greek"
   ]
  },
  {
   "cell_type": "code",
   "execution_count": 192,
   "metadata": {},
   "outputs": [],
   "source": [
    "def english_blank(input): \n",
    "    # strip the whitespace and punctuation from the input\n",
    "    input = input.strip()\n",
    "    input = ''.join(letter for letter in input if letter not in string.punctuation)\n",
    "    \n",
    "    # check the answer\n",
    "    if input == blank_word:\n",
    "        return 'Correct!'\n",
    "    else:\n",
    "        # check if the accents are incorrect\n",
    "        if input == strip_accents(blank_word):\n",
    "            return 'Almost! Check the accents'\n",
    "        else:\n",
    "            return 'Try again!'"
   ]
  },
  {
   "cell_type": "code",
   "execution_count": 193,
   "metadata": {},
   "outputs": [],
   "source": [
    "def exercise2(input):\n",
    "    feedback = greek_blank(input)\n",
    "    return \"%s\" % (feedback)\n",
    "\n",
    "\n",
    "blank_demo2 = gr.Interface(fn=exercise2, \n",
    "                    inputs=[gr.Textbox(lines=2, placeholder=\"Fill in the blank here...\", label=ex_english_sent)],\n",
    "                    outputs=\"text\")\n",
    "\n",
    "# blank_demo2.launch()"
   ]
  },
  {
   "cell_type": "code",
   "execution_count": 200,
   "metadata": {},
   "outputs": [
    {
     "ename": "OSError",
     "evalue": "All ports from 7860 to 7960 are in use. Please close a port.",
     "output_type": "error",
     "traceback": [
      "\u001b[0;31m---------------------------------------------------------------------------\u001b[0m",
      "\u001b[0;31mOSError\u001b[0m                                   Traceback (most recent call last)",
      "\u001b[0;32m<ipython-input-200-1570535855a5>\u001b[0m in \u001b[0;36m<module>\u001b[0;34m\u001b[0m\n\u001b[1;32m      1\u001b[0m \u001b[0mtwo_ex\u001b[0m \u001b[0;34m=\u001b[0m \u001b[0mgr\u001b[0m\u001b[0;34m.\u001b[0m\u001b[0mTabbedInterface\u001b[0m\u001b[0;34m(\u001b[0m\u001b[0;34m[\u001b[0m\u001b[0mblank_demo\u001b[0m\u001b[0;34m,\u001b[0m \u001b[0mblank_demo2\u001b[0m\u001b[0;34m]\u001b[0m\u001b[0;34m)\u001b[0m\u001b[0;34m\u001b[0m\u001b[0;34m\u001b[0m\u001b[0m\n\u001b[0;32m----> 2\u001b[0;31m \u001b[0mtwo_ex\u001b[0m\u001b[0;34m.\u001b[0m\u001b[0mlaunch\u001b[0m\u001b[0;34m(\u001b[0m\u001b[0;34m)\u001b[0m\u001b[0;34m\u001b[0m\u001b[0;34m\u001b[0m\u001b[0m\n\u001b[0m",
      "\u001b[0;32m/opt/anaconda3/lib/python3.8/site-packages/gradio/blocks.py\u001b[0m in \u001b[0;36mlaunch\u001b[0;34m(self, inline, inbrowser, share, debug, enable_queue, max_threads, auth, auth_message, prevent_thread_lock, show_error, server_name, server_port, show_tips, height, width, encrypt, favicon_path, ssl_keyfile, ssl_certfile, ssl_keyfile_password, quiet, _frontend)\u001b[0m\n\u001b[1;32m    756\u001b[0m                 )\n\u001b[1;32m    757\u001b[0m         \u001b[0;32melse\u001b[0m\u001b[0;34m:\u001b[0m\u001b[0;34m\u001b[0m\u001b[0;34m\u001b[0m\u001b[0m\n\u001b[0;32m--> 758\u001b[0;31m             server_port, path_to_local_server, app, server = networking.start_server(\n\u001b[0m\u001b[1;32m    759\u001b[0m                 \u001b[0mself\u001b[0m\u001b[0;34m,\u001b[0m\u001b[0;34m\u001b[0m\u001b[0;34m\u001b[0m\u001b[0m\n\u001b[1;32m    760\u001b[0m                 \u001b[0mserver_name\u001b[0m\u001b[0;34m,\u001b[0m\u001b[0;34m\u001b[0m\u001b[0;34m\u001b[0m\u001b[0m\n",
      "\u001b[0;32m/opt/anaconda3/lib/python3.8/site-packages/gradio/networking.py\u001b[0m in \u001b[0;36mstart_server\u001b[0;34m(blocks, server_name, server_port, ssl_keyfile, ssl_certfile, ssl_keyfile_password)\u001b[0m\n\u001b[1;32m    112\u001b[0m     \u001b[0;31m# if port is not specified, search for first available port\u001b[0m\u001b[0;34m\u001b[0m\u001b[0;34m\u001b[0m\u001b[0;34m\u001b[0m\u001b[0m\n\u001b[1;32m    113\u001b[0m     \u001b[0;32mif\u001b[0m \u001b[0mserver_port\u001b[0m \u001b[0;32mis\u001b[0m \u001b[0;32mNone\u001b[0m\u001b[0;34m:\u001b[0m\u001b[0;34m\u001b[0m\u001b[0;34m\u001b[0m\u001b[0m\n\u001b[0;32m--> 114\u001b[0;31m         port = get_first_available_port(\n\u001b[0m\u001b[1;32m    115\u001b[0m             \u001b[0mINITIAL_PORT_VALUE\u001b[0m\u001b[0;34m,\u001b[0m \u001b[0mINITIAL_PORT_VALUE\u001b[0m \u001b[0;34m+\u001b[0m \u001b[0mTRY_NUM_PORTS\u001b[0m\u001b[0;34m\u001b[0m\u001b[0;34m\u001b[0m\u001b[0m\n\u001b[1;32m    116\u001b[0m         )\n",
      "\u001b[0;32m/opt/anaconda3/lib/python3.8/site-packages/gradio/networking.py\u001b[0m in \u001b[0;36mget_first_available_port\u001b[0;34m(initial, final)\u001b[0m\n\u001b[1;32m     63\u001b[0m         \u001b[0;32mexcept\u001b[0m \u001b[0mOSError\u001b[0m\u001b[0;34m:\u001b[0m\u001b[0;34m\u001b[0m\u001b[0;34m\u001b[0m\u001b[0m\n\u001b[1;32m     64\u001b[0m             \u001b[0;32mpass\u001b[0m\u001b[0;34m\u001b[0m\u001b[0;34m\u001b[0m\u001b[0m\n\u001b[0;32m---> 65\u001b[0;31m     raise OSError(\n\u001b[0m\u001b[1;32m     66\u001b[0m         \"All ports from {} to {} are in use. Please close a port.\".format(\n\u001b[1;32m     67\u001b[0m             \u001b[0minitial\u001b[0m\u001b[0;34m,\u001b[0m \u001b[0mfinal\u001b[0m\u001b[0;34m\u001b[0m\u001b[0;34m\u001b[0m\u001b[0m\n",
      "\u001b[0;31mOSError\u001b[0m: All ports from 7860 to 7960 are in use. Please close a port."
     ]
    },
    {
     "name": "stderr",
     "output_type": "stream",
     "text": [
      "Exception in callback None(<Task finishe...> result=None>)\n",
      "handle: <Handle>\n",
      "Traceback (most recent call last):\n",
      "  File \"/opt/anaconda3/lib/python3.8/asyncio/events.py\", line 81, in _run\n",
      "    self._context.run(self._callback, *self._args)\n",
      "TypeError: 'NoneType' object is not callable\n"
     ]
    }
   ],
   "source": [
    "two_ex = gr.TabbedInterface([blank_demo, blank_demo2])\n",
    "two_ex.launch()"
   ]
  },
  {
   "cell_type": "code",
   "execution_count": null,
   "metadata": {},
   "outputs": [],
   "source": []
  }
 ],
 "metadata": {
  "kernelspec": {
   "display_name": "Python 3",
   "language": "python",
   "name": "python3"
  },
  "language_info": {
   "codemirror_mode": {
    "name": "ipython",
    "version": 3
   },
   "file_extension": ".py",
   "mimetype": "text/x-python",
   "name": "python",
   "nbconvert_exporter": "python",
   "pygments_lexer": "ipython3",
   "version": "3.8.5"
  }
 },
 "nbformat": 4,
 "nbformat_minor": 4
}
