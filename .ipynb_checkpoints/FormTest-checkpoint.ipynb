{
 "cells": [
  {
   "cell_type": "markdown",
   "metadata": {},
   "source": [
    "This notebook is an experimentation using all_forms.csv (all the forms of a given set of verbs) to give specific feedback on exercises"
   ]
  },
  {
   "cell_type": "code",
   "execution_count": 24,
   "metadata": {
    "scrolled": true
   },
   "outputs": [
    {
     "data": {
      "application/vnd.jupyter.widget-view+json": {
       "model_id": "15e3d1ea69024546b843523edb0f293d",
       "version_major": 2,
       "version_minor": 0
      },
      "text/plain": [
       "HBox(children=(HTML(value='Downloading https://raw.githubusercontent.com/stanfordnlp/stanza-resources/main/res…"
      ]
     },
     "metadata": {},
     "output_type": "display_data"
    },
    {
     "name": "stderr",
     "output_type": "stream",
     "text": [
      "2022-08-03 10:39:20 INFO: Downloading default packages for language: grc (Ancient_Greek)...\n"
     ]
    },
    {
     "name": "stdout",
     "output_type": "stream",
     "text": [
      "\n"
     ]
    },
    {
     "name": "stderr",
     "output_type": "stream",
     "text": [
      "2022-08-03 10:39:21 INFO: File exists: /Users/mallard/stanza_resources/grc/default.zip\n",
      "2022-08-03 10:39:22 INFO: Finished downloading models and saved to /Users/mallard/stanza_resources.\n"
     ]
    },
    {
     "data": {
      "application/vnd.jupyter.widget-view+json": {
       "model_id": "41ca75e6b90e4b579f317345b31b0540",
       "version_major": 2,
       "version_minor": 0
      },
      "text/plain": [
       "HBox(children=(HTML(value='Downloading https://raw.githubusercontent.com/stanfordnlp/stanza-resources/main/res…"
      ]
     },
     "metadata": {},
     "output_type": "display_data"
    },
    {
     "name": "stdout",
     "output_type": "stream",
     "text": [
      "\n"
     ]
    },
    {
     "name": "stderr",
     "output_type": "stream",
     "text": [
      "2022-08-03 10:39:23 INFO: Loading these models for language: grc (Ancient_Greek):\n",
      "=======================\n",
      "| Processor | Package |\n",
      "-----------------------\n",
      "| tokenize  | proiel  |\n",
      "| pos       | proiel  |\n",
      "| lemma     | proiel  |\n",
      "| depparse  | proiel  |\n",
      "=======================\n",
      "\n",
      "2022-08-03 10:39:23 INFO: Use device: cpu\n",
      "2022-08-03 10:39:23 INFO: Loading: tokenize\n",
      "2022-08-03 10:39:23 INFO: Loading: pos\n",
      "2022-08-03 10:39:23 INFO: Loading: lemma\n",
      "2022-08-03 10:39:23 INFO: Loading: depparse\n",
      "2022-08-03 10:39:23 INFO: Done loading processors!\n"
     ]
    },
    {
     "name": "stdout",
     "output_type": "stream",
     "text": [
      "Requirement already satisfied: greek-accentuation==1.2.0 in /opt/anaconda3/lib/python3.8/site-packages (1.2.0)\n",
      "Requirement already satisfied: greek-normalisation in /opt/anaconda3/lib/python3.8/site-packages (0.5.1)\n"
     ]
    }
   ],
   "source": [
    "import pandas as pd\n",
    "import stanza\n",
    "stanza.download('grc') \n",
    "nlp = stanza.Pipeline('grc') \n",
    "\n",
    "!pip install greek-accentuation==1.2.0\n",
    "!pip install greek-normalisation\n",
    "\n",
    "from greek_accentuation.syllabify import *\n",
    "from greek_normalisation.utils import *"
   ]
  },
  {
   "cell_type": "code",
   "execution_count": 3,
   "metadata": {},
   "outputs": [],
   "source": [
    "file = 'lib/greek-inflexion-files/all_forms.csv'"
   ]
  },
  {
   "cell_type": "markdown",
   "metadata": {},
   "source": [
    "very basic test: compare two words. If the user's answer is incorrect, give feedback on the correct form"
   ]
  },
  {
   "cell_type": "code",
   "execution_count": 32,
   "metadata": {},
   "outputs": [],
   "source": [
    "# define the user's answer below\n",
    "answer = 'παύω'\n",
    "\n",
    "# define the correct answer\n",
    "correct = 'παύομεν'"
   ]
  },
  {
   "cell_type": "markdown",
   "metadata": {},
   "source": [
    "1. Lookup the user's answer\n",
    "2. Lookup the correct answer\n",
    "3. If the line numbers match, determine the parts of speech of the user's answer and the correct answer\n",
    "4. Provide feedback accordingly"
   ]
  },
  {
   "cell_type": "code",
   "execution_count": 56,
   "metadata": {},
   "outputs": [
    {
     "name": "stdout",
     "output_type": "stream",
     "text": [
      "     PAI.1S     PAI.2S    PAI.3S      PAI.1P     PAI.2P         PAI.3P\n",
      "0       ἔχω      ἔχεις      ἔχει      ἔχομεν      ἔχετε      ἔχουσι(ν)\n",
      "1      παύω     παύεις     παύει     παύομεν     παύετε     παύουσι(ν)\n",
      "2     πέμπω    πέμπεις    πέμπει    πέμπομεν    πέμπετε    πέμπουσι(ν)\n",
      "3       ἄγω      ἄγεις      ἄγει      ἄγομεν      ἄγετε      ἄγουσι(ν)\n",
      "4     γράφω    γράφεις    γράφει    γράφομεν    γράφετε    γράφουσι(ν)\n",
      "5     ἐθέλω    ἐθέλεις    ἐθέλει    ἐθέλομεν    ἐθέλετε    ἐθέλουσι(ν)\n",
      "6       λύω      λύεις      λύει      λύομεν      λύετε      λύουσι(ν)\n",
      "7   φυλάσσω  φυλάσσεις  φυλάσσει  φυλάσσομεν  φυλάσσετε  φυλάσσουσι(ν)\n",
      "8   ἀθροίζω  ἀθροίζεις  ἀθροίζει  ἀθροίζομεν  ἀθροίζετε  ἀθροίζουσι(ν)\n",
      "9    ἁρπάζω   ἁρπάζεις   ἁρπάζει   ἁρπάζομεν   ἁρπάζετε   ἁρπάζουσι(ν)\n",
      "10     ἄρχω     ἄρχεις     ἄρχει     ἄρχομεν     ἄρχετε     ἄρχουσι(ν)\n",
      "11    μέλλω    μέλλεις    μέλλει    μέλλομεν    μέλλετε    μέλλουσι(ν)\n",
      "12    διώκω    διώκεις    διώκει    διώκομεν    διώκετε    διώκουσι(ν)\n",
      "13   νομίζω   νομίζεις   νομίζει   νομίζομεν   νομίζετε   νομίζουσι(ν)\n",
      "14    πείθω    πείθεις    πείθει    πείθομεν    πείθετε    πείθουσι(ν)\n",
      "15    λείπω    λείπεις    λείπει    λείπομεν    λείπετε    λείπουσι(ν)\n",
      "\n",
      "\n",
      "\n"
     ]
    }
   ],
   "source": [
    "df = pd.read_csv(file, sep=',')\n",
    "print(df)\n",
    "print(\"\\n\\n\")"
   ]
  },
  {
   "cell_type": "code",
   "execution_count": 79,
   "metadata": {},
   "outputs": [],
   "source": [
    "# strip accents and breathing marks\n",
    "\n",
    "def strip(x):\n",
    "    return strip_breathing(strip_accents(x))\n",
    "\n",
    "n = -1\n",
    "for item in df.iterrows():\n",
    "    n += 1\n",
    "    df.loc[n] = df.loc[n].apply(strip)\n",
    "    \n",
    "answer = strip_breathing(strip_accents(answer))\n",
    "correct = strip_breathing(strip_accents(correct))\n",
    "\n",
    "# print(df)"
   ]
  },
  {
   "cell_type": "code",
   "execution_count": 78,
   "metadata": {
    "scrolled": true
   },
   "outputs": [
    {
     "name": "stdout",
     "output_type": "stream",
     "text": [
      "The user's answer was PAI.1S. The correct answer was PAI.1P\n"
     ]
    }
   ],
   "source": [
    "# 0. Check if the user's answer is correct\n",
    "if answer == correct:\n",
    "    print(\"That answer is correct\")\n",
    "\n",
    "else:\n",
    "# 1. Lookup the user's answer\n",
    "#_____________________________\n",
    "# create a dataframe indicating index (row) of the user's answer\n",
    "    user_ans_df = df.apply(lambda row: row.astype(str).str.contains(answer+'$', regex=True).any(), axis=1)\n",
    "    # print(user_ans_df)\n",
    "\n",
    "    user_ans_index = -1\n",
    "    try:\n",
    "        user_ans_index = list(user_ans_df).index(True)\n",
    "    except:\n",
    "        print(\"That word could not be found\")\n",
    "\n",
    "# 2. Lookup the correct answer\n",
    "#_____________________________\n",
    "    correct_ans_df = df.apply(lambda row: row.astype(str).str.contains(correct+'$', regex=True).any(), axis=1)\n",
    "    # print(correct_ans_df)\n",
    "    correct_ans_index = list(user_ans_df).index(True)\n",
    "    \n",
    "# 3. If the line indices match (the user's answer is the correct word), determine parts of speech\n",
    "#_____________________________\n",
    "    if user_index == correct_index:\n",
    "        # convert row of word forms to list\n",
    "        word_forms = df.values.tolist()[user_ans_index]\n",
    "        user_ans_pos = df.columns[word_forms.index(answer)]\n",
    "        correct_ans_pos = df.columns[word_forms.index(correct)]\n",
    "\n",
    "        # give feedback based on the pos of user's answer and correct answer\n",
    "        print(\"The user's answer was \" + user_pos + \". The correct answer was \" + correct_pos)"
   ]
  }
 ],
 "metadata": {
  "kernelspec": {
   "display_name": "Python 3",
   "language": "python",
   "name": "python3"
  },
  "language_info": {
   "codemirror_mode": {
    "name": "ipython",
    "version": 3
   },
   "file_extension": ".py",
   "mimetype": "text/x-python",
   "name": "python",
   "nbconvert_exporter": "python",
   "pygments_lexer": "ipython3",
   "version": "3.8.5"
  }
 },
 "nbformat": 4,
 "nbformat_minor": 4
}
