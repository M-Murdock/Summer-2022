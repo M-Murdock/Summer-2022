{
 "cells": [
  {
   "cell_type": "markdown",
   "metadata": {},
   "source": [
    "Takes as input a comma-separated file containing question number/part/question/answer, and turns it into an interactive exercise"
   ]
  },
  {
   "cell_type": "code",
   "execution_count": 89,
   "metadata": {},
   "outputs": [],
   "source": [
    "import pandas as pd\n",
    "import gradio as gr\n",
    "import collections"
   ]
  },
  {
   "cell_type": "code",
   "execution_count": 90,
   "metadata": {
    "scrolled": true
   },
   "outputs": [
    {
     "name": "stdout",
     "output_type": "stream",
     "text": [
      "      0  1                                     2  \\\n",
      "0   7.0  a                               ἀδελφοῦ   \n",
      "1   7.0  a                               ἀδελφοί   \n",
      "2   7.0  a                            στρατηγούς   \n",
      "3   7.0  a                               ἀδελφός   \n",
      "4   7.0  a                              ποταμοῖς   \n",
      "5   7.0  a                             στρατηγῶν   \n",
      "6   7.0  a                               ποταμόν   \n",
      "7   7.0  a                              στρατηγῷ   \n",
      "9   7.0  b                          ἦν στρατηγός   \n",
      "10  7.0  b                         ἔχει ἀδελφούς   \n",
      "11  7.0  b                 παύουσι τὸν στρατηγόν   \n",
      "12  7.0  b             οἱ στρατηγοὶ ἦσαν ἀδελφοί   \n",
      "13  7.0  b                            ἦν ποταμός   \n",
      "14  7.0  b      τῷ στρατηγῷ πέμπει τοὺς ἀδελφούς   \n",
      "15  7.0  b                 παύει τοὺς στρατηγούς   \n",
      "16  7.0  b    πέμπουσι τὸν τοῦ στρατηγοῦ ἀδελφόν   \n",
      "18  7.0  c              ὁ στρατηγ-- ἔχει αδελφ--   \n",
      "19  7.0  c                          ἦσαν ποταμ--   \n",
      "20  7.0  c  τοῖς στρατηγ-- πέμπουσι τοὺς ἀδελφ--   \n",
      "\n",
      "                                       3  \n",
      "0                             possession  \n",
      "1                               subjects  \n",
      "2                         direct objects  \n",
      "3                                subject  \n",
      "4                       indirect objects  \n",
      "5                    possession (plural)  \n",
      "6                          direct object  \n",
      "7                        indirect object  \n",
      "9                       He was a general  \n",
      "10                       He has brothers  \n",
      "11                 They stop the general  \n",
      "12            The generals were brothers  \n",
      "13                    There was a river.  \n",
      "14  He sends the brothers to the general  \n",
      "15                 He stops the generals  \n",
      "16  They send the brother of the general  \n",
      "18                    στρατηγὸς, ἀδελφόν  \n",
      "19                               ποταμοί  \n",
      "20                  στρατηγοῖς, ἀδελφούς  \n"
     ]
    }
   ],
   "source": [
    "# read file\n",
    "file = 'lib/CrosbyShaefferSentencesLesson1.csv'\n",
    "# convert to dataframe\n",
    "df = pd.read_csv(file, header=None)\n",
    "df = df.dropna()\n",
    "\n",
    "print(df)"
   ]
  },
  {
   "cell_type": "code",
   "execution_count": 91,
   "metadata": {},
   "outputs": [],
   "source": [
    "# convert the questions and answers to lists\n",
    "num = df[0].tolist()\n",
    "part = df[1].tolist()\n",
    "\n",
    "q = df[2].tolist()\n",
    "\n",
    "a = df[3].tolist()\n",
    "\n",
    "\n",
    "# convert the lists to gradio textboxes\n",
    "index = 0\n",
    "question_boxes = []\n",
    "for i in q:\n",
    "    w =  str(int(num[index])) + str(part[index]) + \". \" + str(i)\n",
    "    question_boxes.append(gr.Textbox(label = w))\n",
    "    index = index+1\n",
    "    \n",
    "\n"
   ]
  },
  {
   "cell_type": "code",
   "execution_count": 92,
   "metadata": {
    "scrolled": true
   },
   "outputs": [
    {
     "name": "stdout",
     "output_type": "stream",
     "text": [
      "                                                word  \\\n",
      "0                                            παύουσι   \n",
      "1                                             πέμπει   \n",
      "2                                           πέμπουσι   \n",
      "3                                    ποταμός, -οὔ, ὃ   \n",
      "4                                  στρατηγός, -οὔ, ὃ   \n",
      "..                                               ...   \n",
      "396  σημαίνω, σημανῶ, ἐσήμηνα, σεσήμασμαι, ἐσημάνθην   \n",
      "397                                         βασιλεία   \n",
      "398                                           κοινός   \n",
      "399                                  νόμος, νόμου, ὁ   \n",
      "400                          οἵομαι, οἴησομαι, ᾠήθην   \n",
      "\n",
      "                          translation       cognate  \n",
      "0                          they stop.           NaN  \n",
      "1    he.she.or it sends (transitive).           NaN  \n",
      "2                          they send.           NaN  \n",
      "3                              river.  HIPPOPOTAMUS  \n",
      "4                            general.      STRATEGY  \n",
      "..                                ...           ...  \n",
      "396    give a signal.signify.betoken.      SEMANTIC  \n",
      "397            kingdom.1 Cf.βασίλειος           NaN  \n",
      "398                           common.           NaN  \n",
      "399              usage.law.Cf.νομίζω.   DEUTERONOMY  \n",
      "400                    think.suppose.           NaN  \n",
      "\n",
      "[401 rows x 3 columns]\n"
     ]
    }
   ],
   "source": [
    "vocab_file = 'lib/crosbyshaeffer_vocabulary.csv'\n",
    "vocab_df = pd.read_csv(vocab_file, sep='\\t')\n",
    "\n",
    "print(vocab_df)"
   ]
  },
  {
   "cell_type": "code",
   "execution_count": 93,
   "metadata": {},
   "outputs": [],
   "source": [
    "# make the vocabulary into lists\n",
    "g = vocab_df['word'].tolist()\n",
    "t = vocab_df['translation'].tolist()\n",
    "c = vocab_df['cognate'].tolist()"
   ]
  },
  {
   "cell_type": "markdown",
   "metadata": {},
   "source": [
    "### Perform basic checks on the answer"
   ]
  },
  {
   "cell_type": "markdown",
   "metadata": {},
   "source": [
    "    1. Does the response precisely match the correct answer?"
   ]
  },
  {
   "cell_type": "markdown",
   "metadata": {},
   "source": [
    "    a. Are there any missing/extraneous words?"
   ]
  },
  {
   "cell_type": "code",
   "execution_count": 94,
   "metadata": {},
   "outputs": [],
   "source": [
    "# returns 'True' if there are missing or extraneous words\n",
    "def missing_extraneous(response, answer):\n",
    "    return not len(response) == len(answer)"
   ]
  },
  {
   "cell_type": "markdown",
   "metadata": {},
   "source": [
    "    b. Is the response a precise match to the correct answer (ignoring word order)?"
   ]
  },
  {
   "cell_type": "code",
   "execution_count": 95,
   "metadata": {},
   "outputs": [],
   "source": [
    "# returns true if the response is a precise match\n",
    "def precise_match(response, answer):\n",
    "    response_split = response.split(\" \")\n",
    "    answer_split = answer.split(\" \")\n",
    "    return collections.Counter(response_split) == collections.Counter(answer_split)"
   ]
  },
  {
   "cell_type": "markdown",
   "metadata": {},
   "source": [
    "    2. Using `crosbyshaeffer2.0.csv`, if precise_match returns 'False' then are the words still valid alternatives?"
   ]
  },
  {
   "cell_type": "code",
   "execution_count": 96,
   "metadata": {},
   "outputs": [
    {
     "ename": "IndentationError",
     "evalue": "expected an indented block (<ipython-input-96-317070baf813>, line 26)",
     "output_type": "error",
     "traceback": [
      "\u001b[0;36m  File \u001b[0;32m\"<ipython-input-96-317070baf813>\"\u001b[0;36m, line \u001b[0;32m26\u001b[0m\n\u001b[0;31m    return True\u001b[0m\n\u001b[0m    ^\u001b[0m\n\u001b[0;31mIndentationError\u001b[0m\u001b[0;31m:\u001b[0m expected an indented block\n"
     ]
    }
   ],
   "source": [
    "# NOTE: this is a placeholder\n",
    "def valid_alternatives(response, answer):\n",
    "    response_split = response.split(\" \")\n",
    "    answer_split = answer.split(\" \")\n",
    "    # get a list of all the words in the response that do not match the answer\n",
    "    diff_response = set(response_split).difference(set(answer_split)) # things in the response that aren't in the answer\n",
    "    diff_answer = set(answer_split).difference(set(response_split)) # things in the answer that aren't in the response\n",
    "\n",
    "#     not_matching = list(diff_response.union(diff_answer))\n",
    "    \n",
    "#     not_matching = [i for i in not_matching if i] # clear out any empty strings\n",
    "    \n",
    "#     print(not_matching)\n",
    "    print(diff_response)\n",
    "    print(diff_answer)\n",
    "    \n",
    "    # loop through every word in 'diff_answer'. \n",
    "    for w in diff_answer:\n",
    "        # for each word, find all the alternate translations\n",
    "        try: \n",
    "            # lookup the word in our dataframe, put all the translations in a list\n",
    "            # if \n",
    "    # if any of these translations matches something in diff_response, success! remove it from diff_response\n",
    "    # when loop finishes, if there's anything left in diff_response then give error message. Otherwise, success!\n",
    "    \n",
    "    return True"
   ]
  },
  {
   "cell_type": "markdown",
   "metadata": {},
   "source": [
    "### Get user input"
   ]
  },
  {
   "cell_type": "code",
   "execution_count": 97,
   "metadata": {},
   "outputs": [],
   "source": [
    "# NOTE: This feedback needs some work\n",
    "def check(*responses):\n",
    "    ex = 1\n",
    "    feedback = []\n",
    "    for text in responses:\n",
    "        # print the current exercise \n",
    "        feedback.append(str(int(num[ex-1])) + str(part[ex-1]) + \": \")\n",
    "        \n",
    "        if precise_match(text, str(a[ex-1])):\n",
    "            feedback.append(\"Correct!\")\n",
    "\n",
    "        else:\n",
    "            if missing_extraneous(text, str(a[ex-1])):\n",
    "                feedback.append(\"Your response may have too many or too few words.\")\n",
    "            if valid_alternatives(text, str(a[ex-1])):\n",
    "                feedback.append(\"Correct!\")\n",
    "                \n",
    "        ex = ex + 1\n",
    "\n",
    "    return '\\n'.join(feedback)"
   ]
  },
  {
   "cell_type": "code",
   "execution_count": 98,
   "metadata": {},
   "outputs": [
    {
     "name": "stdout",
     "output_type": "stream",
     "text": [
      "Running on local URL:  http://127.0.0.1:7879/\n",
      "\n",
      "To create a public link, set `share=True` in `launch()`.\n"
     ]
    },
    {
     "data": {
      "text/html": [
       "<div><iframe src=\"http://127.0.0.1:7879/\" width=\"900\" height=\"500\" allow=\"autoplay; camera; microphone;\" frameborder=\"0\" allowfullscreen></iframe></div>"
      ],
      "text/plain": [
       "<IPython.core.display.HTML object>"
      ]
     },
     "metadata": {},
     "output_type": "display_data"
    },
    {
     "data": {
      "text/plain": [
       "(<gradio.routes.App at 0x7fe9e67f2940>, 'http://127.0.0.1:7879/', None)"
      ]
     },
     "execution_count": 98,
     "metadata": {},
     "output_type": "execute_result"
    },
    {
     "name": "stderr",
     "output_type": "stream",
     "text": [
      "Exception in callback None(<Task finishe...> result=None>)\n",
      "handle: <Handle>\n",
      "Traceback (most recent call last):\n",
      "  File \"/opt/anaconda3/lib/python3.8/asyncio/events.py\", line 81, in _run\n",
      "    self._context.run(self._callback, *self._args)\n",
      "TypeError: 'NoneType' object is not callable\n"
     ]
    }
   ],
   "source": [
    "demo5 = gr.Interface(description='', fn=check, inputs=question_boxes, outputs=\"text\")\n",
    "\n",
    "demo5.launch()"
   ]
  },
  {
   "cell_type": "code",
   "execution_count": null,
   "metadata": {},
   "outputs": [],
   "source": []
  }
 ],
 "metadata": {
  "kernelspec": {
   "display_name": "Python 3",
   "language": "python",
   "name": "python3"
  },
  "language_info": {
   "codemirror_mode": {
    "name": "ipython",
    "version": 3
   },
   "file_extension": ".py",
   "mimetype": "text/x-python",
   "name": "python",
   "nbconvert_exporter": "python",
   "pygments_lexer": "ipython3",
   "version": "3.8.5"
  }
 },
 "nbformat": 4,
 "nbformat_minor": 4
}
